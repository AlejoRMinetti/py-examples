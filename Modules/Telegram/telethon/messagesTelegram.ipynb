{
 "cells": [
  {
   "cell_type": "code",
   "execution_count": 3,
   "metadata": {},
   "outputs": [
    {
     "data": {
      "text/plain": [
       "<coroutine object UpdateMethods._run_until_disconnected at 0x000001F9B3CA0BA0>"
      ]
     },
     "execution_count": 3,
     "metadata": {},
     "output_type": "execute_result"
    }
   ],
   "source": [
    "from telethon import TelegramClient, events\n",
    "import configparser\n",
    "\n",
    "# Reading Configs\n",
    "config = configparser.ConfigParser()\n",
    "config.read(\"config.ini\")\n",
    "# Setting configuration values\n",
    "api_id = config['Telegram']['api_id']\n",
    "api_hash = config['Telegram']['api_hash']\n",
    "# api_hash = str(api_hash)\n",
    "phone = config['Telegram']['phone']\n",
    "username = config['Telegram']['username']\n",
    "\n",
    "# Create the client and connect\n",
    "client = TelegramClient(username, api_id, api_hash)\n",
    "\n",
    "def on(self: 'TelegramClient', event: events.NewMessage):\n",
    "        \"\"\"\n",
    "        Decorator used to `add_event_handler` more conveniently.\n",
    "        Arguments\n",
    "            event (`_EventBuilder` | `type`):\n",
    "                The event builder class or instance to be used,\n",
    "                for instance ``events.NewMessage``.\n",
    "        Example\n",
    "            .. code-block:: python\n",
    "                from telethon import TelegramClient, events\n",
    "                client = TelegramClient(...)\n",
    "                # Here we use client.on\n",
    "                @client.on(events.NewMessage)\n",
    "                async def handler(event):\n",
    "                    ...\n",
    "        \"\"\"\n",
    "        def decorator(f):\n",
    "            self.add_event_handler(f, event)\n",
    "            return f\n",
    "\n",
    "        return decorator \n",
    "\n",
    "# Here we use client.on\n",
    "@client.on(events.NewMessage)\n",
    "async def handler(event):\n",
    "    print(event)\n",
    "\n",
    "client.run_until_disconnected()\n"
   ]
  },
  {
   "cell_type": "code",
   "execution_count": null,
   "metadata": {},
   "outputs": [],
   "source": [
    "from telethon import TelegramClient\n",
    "import configparser\n",
    "\n",
    "# Reading Configs\n",
    "config = configparser.ConfigParser()\n",
    "config.read(\"config.ini\")\n",
    "# Setting configuration values\n",
    "api_id = config['Telegram']['api_id']\n",
    "api_hash = config['Telegram']['api_hash']\n",
    "# api_hash = str(api_hash)\n",
    "phone = config['Telegram']['phone']\n",
    "username = config['Telegram']['username']\n",
    "\n",
    "# Create the client and connect\n",
    "client = TelegramClient(username, api_id, api_hash)\n",
    "\n",
    "async def main():\n",
    "    # await client.start()\n",
    "        # Ensure you're authorized\n",
    "    if await client.is_user_authorized() == False:\n",
    "        await client.send_code_request(phone)\n",
    "        try:\n",
    "            await client.sign_in(phone, input('Enter the code: '))\n",
    "        except SessionPasswordNeededError:\n",
    "            await client.sign_in(password=input('Password: '))\n",
    "\n",
    "    me = await client.get_me()\n",
    "\n",
    "    print(me)\n",
    "    # Now you can use all client methods listed below, like for example...\n",
    "    await client.send_message('me', 'Hello to myself!')\n",
    "\n",
    "async with client:\n",
    "    client.loop.run_until_complete(main())\n",
    "        "
   ]
  },
  {
   "cell_type": "code",
   "execution_count": null,
   "metadata": {},
   "outputs": [],
   "source": [
    "from telethon.sync import TelegramClient, events\n",
    "import configparser\n",
    "\n",
    "# Reading Configs\n",
    "config = configparser.ConfigParser()\n",
    "config.read(\"config.ini\")\n",
    "\n",
    "# Setting configuration values\n",
    "api_id = config['Telegram']['api_id']\n",
    "api_hash = config['Telegram']['api_hash']\n",
    "\n",
    "api_hash = str(api_hash)\n",
    "\n",
    "phone = config['Telegram']['phone']\n",
    "username = config['Telegram']['username']\n",
    "\n",
    "client = TelegramClient(username, api_id, api_hash)\n",
    "# await client.start()\n",
    "client.send_message('me', 'Hello, myself!')\n",
    "print(client.download_profile_photo(username))\n",
    "\n",
    "@client.on(events.NewMessage(pattern='(?i).*Hello'))\n",
    "async def handler(event):\n",
    "    await event.reply('Hey!')\n",
    "\n",
    "client.run_until_disconnected()"
   ]
  }
 ],
 "metadata": {
  "kernelspec": {
   "display_name": "Python 3.10.4 64-bit",
   "language": "python",
   "name": "python3"
  },
  "language_info": {
   "codemirror_mode": {
    "name": "ipython",
    "version": 3
   },
   "file_extension": ".py",
   "mimetype": "text/x-python",
   "name": "python",
   "nbconvert_exporter": "python",
   "pygments_lexer": "ipython3",
   "version": "3.10.4"
  },
  "orig_nbformat": 4,
  "vscode": {
   "interpreter": {
    "hash": "873e21717f42d2fe7eec6dce3cd2d5abc0ffafd921bc43abcb0ab928a2fb2107"
   }
  }
 },
 "nbformat": 4,
 "nbformat_minor": 2
}
