{
 "cells": [
  {
   "cell_type": "markdown",
   "metadata": {},
   "source": [
    "Usando Python-docx\n",
    "https://programmer.ink/think/python-docx-operation-word-insert-the-picture-at-the-specified-location.html"
   ]
  },
  {
   "cell_type": "code",
   "execution_count": 2,
   "metadata": {},
   "outputs": [
    {
     "name": "stdout",
     "output_type": "stream",
     "text": [
      "Collecting python-docx\n",
      "  Downloading python-docx-0.8.11.tar.gz (5.6 MB)\n",
      "     ---------------------------------------- 5.6/5.6 MB 6.6 MB/s eta 0:00:00\n",
      "  Preparing metadata (setup.py): started\n",
      "  Preparing metadata (setup.py): finished with status 'done'\n",
      "Requirement already satisfied: lxml>=2.3.2 in c:\\users\\alejo\\appdata\\local\\programs\\python\\python310\\lib\\site-packages (from python-docx) (4.9.0)\n",
      "Using legacy 'setup.py install' for python-docx, since package 'wheel' is not installed.\n",
      "Installing collected packages: python-docx\n",
      "  Running setup.py install for python-docx: started\n",
      "  Running setup.py install for python-docx: finished with status 'done'\n",
      "Successfully installed python-docx-0.8.11\n",
      "Collecting python-docx\n",
      "  Using cached python-docx-0.8.11.tar.gz (5.6 MB)\n",
      "  Preparing metadata (setup.py): started\n",
      "  Preparing metadata (setup.py): finished with status 'done'\n",
      "Requirement already satisfied: lxml>=2.3.2 in c:\\users\\alejo\\appdata\\local\\programs\\python\\python310\\lib\\site-packages (from python-docx) (4.9.0)\n",
      "Using legacy 'setup.py install' for python-docx, since package 'wheel' is not installed.\n",
      "Installing collected packages: python-docx\n",
      "  Running setup.py install for python-docx: started\n",
      "  Running setup.py install for python-docx: finished with status 'done'\n",
      "Successfully installed python-docx-0.8.11\n",
      "Note: you may need to restart the kernel to use updated packages.\n"
     ]
    }
   ],
   "source": [
    "pip install python-docx"
   ]
  },
  {
   "cell_type": "code",
   "execution_count": 3,
   "metadata": {},
   "outputs": [],
   "source": [
    "import docx  # docx is used to connect word"
   ]
  },
  {
   "cell_type": "markdown",
   "metadata": {},
   "source": [
    "Connect the word document to be operated on"
   ]
  },
  {
   "cell_type": "code",
   "execution_count": 8,
   "metadata": {},
   "outputs": [],
   "source": [
    "doc = docx.Document(\"./test.docx\") # connect test.docx file\n"
   ]
  },
  {
   "cell_type": "markdown",
   "metadata": {},
   "source": [
    "Add text"
   ]
  },
  {
   "cell_type": "code",
   "execution_count": 10,
   "metadata": {},
   "outputs": [],
   "source": [
    "doc.add_paragraph('probando textooo....')\n",
    "doc.save('test.docx')"
   ]
  },
  {
   "cell_type": "markdown",
   "metadata": {},
   "source": [
    "Agregando imagen"
   ]
  },
  {
   "cell_type": "code",
   "execution_count": null,
   "metadata": {},
   "outputs": [],
   "source": [
    "doc.add_paragraph('ahi te va un canino!')\n",
    "doc.add_picture('./Perro.jpg')\n",
    "doc.save('test.docx')"
   ]
  },
  {
   "cell_type": "markdown",
   "metadata": {},
   "source": [
    "Complete code"
   ]
  },
  {
   "cell_type": "code",
   "execution_count": null,
   "metadata": {},
   "outputs": [],
   "source": [
    "import sys\n",
    "import docx\n",
    "import os\n",
    "'''\n",
    "//Traverse the directory to insert pictures in wrod.\n",
    "'''\n",
    "def file_name_walk(file_dir, kwword):\n",
    "    \"\"\"\n",
    "    //Return the absolute path of the required file (test report on the right side of the short side)\n",
    "    :param file_dir: catalog\n",
    "    :param kwword: Document No\n",
    "    :return:\n",
    "    \"\"\"\n",
    "    for root, dirs, files in os.walk(file_dir):\n",
    "        # print(\"root\", root)  # Current directory path\n",
    "        # print(\"dirs\", dirs)  # All subdirectories under the current path\n",
    "        # print(\"files\", files)  # All non directory sub files under the current path\n",
    "        for f in files:\n",
    "            if kwword in f:\n",
    "                return root + \"\\\\\" + f\n",
    "# Get the name of the picture and separate by commas\n",
    "def photo_name_walk(photo_dir,file_dir, suffix='.png'):\n",
    "    \"\"\"\n",
    "    //Get the number (or name) of the word from the picture name\n",
    "    :param photo_dir: Picture path\n",
    "    :param file_dir: To insert wrod Path to file\n",
    "    :param suffix: file extension\n",
    "    :return:\n",
    "    \"\"\"\n",
    "    for root, dirs, files in os.walk(photo_dir):\n",
    "        for f in files:\n",
    "            if os.path.splitext(f)[1] == suffix:\n",
    "                photo_name = os.path.splitext(f)[0]\n",
    "                # Divide photo s by commas\n",
    "                file_number = photo_name.split(',')[0]  # Using file_number find the corresponding word document\n",
    "                position_number = photo_name.split(',')[1]  # Use position to find the place where the document is to be inserted\n",
    "                # Absolute path of photo\n",
    "                photo_dit_path = root + \"\\\\\" + f\n",
    "                # Find the absolute path of word\n",
    "                file_dir_path = file_name_walk(file_dir, file_number)\n",
    "                # Insert picture in word\n",
    "                word_main(file_dir_path, photo_dit_path, position_number)\n",
    "\n",
    "\n",
    "def word_main(file_dir_path, photo_dit_path, position_number):\n",
    "    '''\n",
    "    //Insert picture in word\n",
    "    :param file_dir_path: File absolute path\n",
    "    :param photo_dit_path: Absolute path of picture\n",
    "    :param position_number: Where to locate word Middle search position_number This string\n",
    "    :return:\n",
    "    '''\n",
    "    doc = docx.Document(file_dir_path)\n",
    "    for i, p in enumerate(doc.paragraphs):  # Traverse all paragraphs\n",
    "        print(str(i) + \":\"+ str(p.text))\n",
    "        if len(p.text) != 0:\n",
    "\n",
    "            for i in range(len(p.runs)):  # p.runs represents a list of all the text under the P paragraph\n",
    "                print(str(i)+':::::')\n",
    "                print(p.runs[i].text)  # When printing, it is found that p.runs automatically decomposes the paragraphs\n",
    "        if position_number in p.text:\n",
    "            p.runs[-1].add_break()  # Add a break\n",
    "            p.runs[-1].add_picture(photo_dit_path)  # Add a picture after the last text in runs\n",
    "            # os.remove(photo_dit_path)\n",
    "\n",
    "        doc.save(file_dir_path)  # Save file\n",
    "file_dir = sys.argv[1]\n",
    "# print('file_dir', file_dir)\n",
    "photo_dir = sys.argv[2]\n",
    "# print('photo_dir', photo_dir)\n",
    "photo_name_walk(photo_dir, file_dir)"
   ]
  }
 ],
 "metadata": {
  "kernelspec": {
   "display_name": "Python 3.10.4 64-bit",
   "language": "python",
   "name": "python3"
  },
  "language_info": {
   "codemirror_mode": {
    "name": "ipython",
    "version": 3
   },
   "file_extension": ".py",
   "mimetype": "text/x-python",
   "name": "python",
   "nbconvert_exporter": "python",
   "pygments_lexer": "ipython3",
   "version": "3.10.4"
  },
  "orig_nbformat": 4,
  "vscode": {
   "interpreter": {
    "hash": "873e21717f42d2fe7eec6dce3cd2d5abc0ffafd921bc43abcb0ab928a2fb2107"
   }
  }
 },
 "nbformat": 4,
 "nbformat_minor": 2
}
