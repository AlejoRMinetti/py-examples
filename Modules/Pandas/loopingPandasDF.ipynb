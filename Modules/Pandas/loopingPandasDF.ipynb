{
 "cells": [
  {
   "cell_type": "code",
   "execution_count": 1,
   "metadata": {},
   "outputs": [
    {
     "name": "stdout",
     "output_type": "stream",
     "text": [
      "Given Dataframe :\n",
      "         Name  Age    Stream  Percentage\n",
      "0      Ankit   21      Math          88\n",
      "1       Amit   19  Commerce          92\n",
      "2  Aishwarya   20      Arts          95\n",
      "3   Priyanka   18   Biology          70\n",
      "\n",
      "Iterating over rows using index attribute :\n",
      "\n",
      "Ankit Math\n",
      "Amit Commerce\n",
      "Aishwarya Arts\n",
      "Priyanka Biology\n"
     ]
    }
   ],
   "source": [
    "# import pandas package as pd\n",
    "import pandas as pd\n",
    "  \n",
    "# Define a dictionary containing students data\n",
    "data = {'Name': ['Ankit', 'Amit',\n",
    "                 'Aishwarya', 'Priyanka'],\n",
    "        'Age': [21, 19, 20, 18],\n",
    "        'Stream': ['Math', 'Commerce',\n",
    "                   'Arts', 'Biology'],\n",
    "        'Percentage': [88, 92, 95, 70]}\n",
    "  \n",
    "# Convert the dictionary into DataFrame\n",
    "df = pd.DataFrame(data, columns=['Name', 'Age', \n",
    "                                 'Stream', 'Percentage'])\n",
    "  \n",
    "print(\"Given Dataframe :\\n\", df)\n",
    "  \n",
    "print(\"\\nIterating over rows using index attribute :\\n\")\n",
    "  \n",
    "# iterate through each row and select\n",
    "# 'Name' and 'Stream' column respectively.\n",
    "for ind in df.index:\n",
    "    print(df['Name'][ind], df['Stream'][ind])"
   ]
  },
  {
   "cell_type": "code",
   "execution_count": 2,
   "metadata": {},
   "outputs": [
    {
     "name": "stdout",
     "output_type": "stream",
     "text": [
      "\n",
      "Iterating over rows using loc function :\n",
      "\n",
      "Ankit 21\n",
      "Amit 19\n",
      "Aishwarya 20\n",
      "Priyanka 18\n"
     ]
    }
   ],
   "source": [
    "print(\"\\nIterating over rows using loc function :\\n\")\n",
    "  \n",
    "# iterate through each row and select\n",
    "# 'Name' and 'Age' column respectively.\n",
    "for i in range(len(df)):\n",
    "    print(df.loc[i, \"Name\"], df.loc[i, \"Age\"])"
   ]
  },
  {
   "cell_type": "code",
   "execution_count": 3,
   "metadata": {},
   "outputs": [
    {
     "name": "stdout",
     "output_type": "stream",
     "text": [
      "\n",
      "Iterating over rows using iloc function :\n",
      "\n",
      "Ankit Math\n",
      "Amit Commerce\n",
      "Aishwarya Arts\n",
      "Priyanka Biology\n"
     ]
    }
   ],
   "source": [
    "print(\"\\nIterating over rows using iloc function :\\n\")\n",
    "  \n",
    "# iterate through each row and select\n",
    "# 0th and 2nd index column respectively.\n",
    "for i in range(len(df)):\n",
    "    print(df.iloc[i, 0], df.iloc[i, 2])"
   ]
  },
  {
   "cell_type": "code",
   "execution_count": 4,
   "metadata": {},
   "outputs": [
    {
     "name": "stdout",
     "output_type": "stream",
     "text": [
      "\n",
      "Iterating over rows using iterrows() method :\n",
      "\n",
      "Ankit 21\n",
      "Amit 19\n",
      "Aishwarya 20\n",
      "Priyanka 18\n"
     ]
    }
   ],
   "source": [
    "print(\"\\nIterating over rows using iterrows() method :\\n\")\n",
    "  \n",
    "# iterate through each row and select\n",
    "# 'Name' and 'Age' column respectively.\n",
    "for index, row in df.iterrows():\n",
    "    print(row[\"Name\"], row[\"Age\"])"
   ]
  },
  {
   "cell_type": "code",
   "execution_count": 5,
   "metadata": {},
   "outputs": [
    {
     "name": "stdout",
     "output_type": "stream",
     "text": [
      "\n",
      "Iterating over rows using itertuples() method :\n",
      "\n",
      "Ankit 88\n",
      "Amit 92\n",
      "Aishwarya 95\n",
      "Priyanka 70\n"
     ]
    }
   ],
   "source": [
    "print(\"\\nIterating over rows using itertuples() method :\\n\")\n",
    "  \n",
    "# iterate through each row and select\n",
    "# 'Name' and 'Percentage' column respectively.\n",
    "for row in df.itertuples(index=True, name='Pandas'):\n",
    "    print(getattr(row, \"Name\"), getattr(row, \"Percentage\"))"
   ]
  },
  {
   "cell_type": "code",
   "execution_count": 6,
   "metadata": {},
   "outputs": [
    {
     "name": "stdout",
     "output_type": "stream",
     "text": [
      "\n",
      "Iterating over rows using apply function :\n",
      "\n",
      "0        Ankit 88\n",
      "1         Amit 92\n",
      "2    Aishwarya 95\n",
      "3     Priyanka 70\n",
      "dtype: object\n"
     ]
    }
   ],
   "source": [
    "print(\"\\nIterating over rows using apply function :\\n\")\n",
    "  \n",
    "# iterate through each row and concatenate\n",
    "# 'Name' and 'Percentage' column respectively.\n",
    "print(df.apply(lambda row: row[\"Name\"] + \" \" + \n",
    "               str(row[\"Percentage\"]), axis=1))"
   ]
  }
 ],
 "metadata": {
  "kernelspec": {
   "display_name": "Python 3.10.0 64-bit",
   "language": "python",
   "name": "python3"
  },
  "language_info": {
   "codemirror_mode": {
    "name": "ipython",
    "version": 3
   },
   "file_extension": ".py",
   "mimetype": "text/x-python",
   "name": "python",
   "nbconvert_exporter": "python",
   "pygments_lexer": "ipython3",
   "version": "3.10.0"
  },
  "orig_nbformat": 4,
  "vscode": {
   "interpreter": {
    "hash": "c63d8c7d738c2960218a10995aedf0a7f67a49a231e71037adf0440953cdb45b"
   }
  }
 },
 "nbformat": 4,
 "nbformat_minor": 2
}
