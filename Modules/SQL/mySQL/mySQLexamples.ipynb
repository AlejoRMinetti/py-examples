{
 "cells": [
  {
   "cell_type": "code",
   "execution_count": 2,
   "metadata": {},
   "outputs": [],
   "source": [
    "from dbCredentials import mydb\n",
    "\n",
    "def queryToDB(query):\n",
    "    cursor = mydb.cursor(dictionary=False)\n",
    "    cursor.execute(query)\n",
    "    myresult = cursor.fetchall()\n",
    "    return myresult"
   ]
  },
  {
   "cell_type": "code",
   "execution_count": 3,
   "metadata": {},
   "outputs": [
    {
     "data": {
      "text/plain": [
       "[(1, 'Hola vengo a flotar', 1, 47)]"
      ]
     },
     "execution_count": 3,
     "metadata": {},
     "output_type": "execute_result"
    }
   ],
   "source": [
    "queryToDB(\"SELECT * FROM platziblog.comentarios;\")"
   ]
  },
  {
   "cell_type": "code",
   "execution_count": 4,
   "metadata": {},
   "outputs": [
    {
     "data": {
      "text/plain": [
       "[(1, 'Hola vengo a flotar', 1, 47), (4, 'Hello there!', 1, 50)]"
      ]
     },
     "execution_count": 4,
     "metadata": {},
     "output_type": "execute_result"
    }
   ],
   "source": [
    "comentario, usuario_id, post_id  = 'Hello there!', 1, 50\n",
    "# Insert to the DB\n",
    "mycursor = mydb.cursor()\n",
    "sql = \"\"\"INSERT INTO comentarios (comentario, usuario_id, post_id)\n",
    "VALUES (%s, %s, %s)\"\"\"\n",
    "val = (comentario, usuario_id, post_id)\n",
    "mycursor.execute(sql, val)\n",
    "\n",
    "queryToDB(\"SELECT * FROM platziblog.comentarios;\")"
   ]
  },
  {
   "cell_type": "markdown",
   "metadata": {},
   "source": [
    "Insert if not exists"
   ]
  },
  {
   "cell_type": "code",
   "execution_count": 8,
   "metadata": {},
   "outputs": [
    {
     "data": {
      "text/plain": [
       "[(1, 'Hola vengo a flotar', 1, 47),\n",
       " (4, 'Hello there!', 1, 50),\n",
       " (5, 'Holaaa!', 2, 50)]"
      ]
     },
     "execution_count": 8,
     "metadata": {},
     "output_type": "execute_result"
    }
   ],
   "source": [
    "comentario, usuario_id, post_id  = 'Holaaa!', 2, 50\n",
    "# Insert to the DB\n",
    "mycursor = mydb.cursor()\n",
    "sql = \"\"\"SELECT comentario FROM comentarios\n",
    "WHERE comentario = %s AND usuario_id = %s AND post_id = %s\n",
    "\"\"\"\n",
    "val = (comentario, usuario_id, post_id)\n",
    "mycursor.execute(sql, val)\n",
    "regDupli = mycursor.fetchall()\n",
    "if regDupli == []:\n",
    "    # Insert to the DB\n",
    "    mycursor = mydb.cursor()\n",
    "    sql = \"\"\"INSERT INTO comentarios (comentario, usuario_id, post_id)\n",
    "    VALUES (%s, %s, %s)\"\"\"\n",
    "    val = (comentario, usuario_id, post_id)\n",
    "    mycursor.execute(sql, val)\n",
    "\n",
    "queryToDB(\"SELECT * FROM platziblog.comentarios;\")"
   ]
  }
 ],
 "metadata": {
  "kernelspec": {
   "display_name": "Python 3.10.4 64-bit",
   "language": "python",
   "name": "python3"
  },
  "language_info": {
   "codemirror_mode": {
    "name": "ipython",
    "version": 3
   },
   "file_extension": ".py",
   "mimetype": "text/x-python",
   "name": "python",
   "nbconvert_exporter": "python",
   "pygments_lexer": "ipython3",
   "version": "3.10.4"
  },
  "orig_nbformat": 4,
  "vscode": {
   "interpreter": {
    "hash": "873e21717f42d2fe7eec6dce3cd2d5abc0ffafd921bc43abcb0ab928a2fb2107"
   }
  }
 },
 "nbformat": 4,
 "nbformat_minor": 2
}
