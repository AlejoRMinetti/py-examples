{
 "cells": [
  {
   "cell_type": "markdown",
   "metadata": {},
   "source": [
    "# SQLite"
   ]
  },
  {
   "cell_type": "markdown",
   "metadata": {},
   "source": [
    "https://docs.python.org/3/library/sqlite3.html"
   ]
  },
  {
   "cell_type": "markdown",
   "metadata": {},
   "source": [
    "#### connection"
   ]
  },
  {
   "cell_type": "code",
   "execution_count": 77,
   "metadata": {},
   "outputs": [],
   "source": [
    "import sqlite3\n",
    "from sqlite3 import Error\n",
    "try:\n",
    "    con = sqlite3.connect('mydatabase.db')\n",
    "except Error:\n",
    "    print(Error)"
   ]
  },
  {
   "cell_type": "markdown",
   "metadata": {},
   "source": [
    "#### Crear tabla"
   ]
  },
  {
   "cell_type": "code",
   "execution_count": 51,
   "metadata": {},
   "outputs": [],
   "source": [
    "# Create table\n",
    "con.execute('''CREATE TABLE IF NOT EXISTS employees\n",
    "               (id, name, salary, department, position, hireDate)''')\n",
    "con.commit()"
   ]
  },
  {
   "cell_type": "markdown",
   "metadata": {},
   "source": [
    "#### Query general"
   ]
  },
  {
   "cell_type": "code",
   "execution_count": 52,
   "metadata": {},
   "outputs": [],
   "source": [
    "# Funcion de uso general para ejecutar querys\n",
    "def sql_query(con, query):\n",
    "    try:\n",
    "        cursorObj = con.cursor()\n",
    "        cursorObj.execute(query)\n",
    "    except Error:\n",
    "        print(Error)\n",
    "    return cursorObj.fetchall()"
   ]
  },
  {
   "cell_type": "code",
   "execution_count": 53,
   "metadata": {},
   "outputs": [],
   "source": [
    "# Obtener todos los datos\n",
    "def sql_fetch_all(con):\n",
    "    rows = sql_query(con, 'SELECT * FROM employees')\n",
    "    for row in rows:\n",
    "        print(row)\n",
    "    print(f\"Filas obtenidas: {len(rows)}\")"
   ]
  },
  {
   "cell_type": "code",
   "execution_count": 66,
   "metadata": {},
   "outputs": [
    {
     "name": "stdout",
     "output_type": "stream",
     "text": [
      "Filas obtenidas: 0\n"
     ]
    }
   ],
   "source": [
    "sql_fetch_all(con)"
   ]
  },
  {
   "cell_type": "markdown",
   "metadata": {},
   "source": [
    "#### Insertar datos"
   ]
  },
  {
   "cell_type": "code",
   "execution_count": 58,
   "metadata": {},
   "outputs": [],
   "source": [
    "# Insertar en una tabla\n",
    "def sql_insert(con, entities):\n",
    "    try:\n",
    "        cursorObj = con.cursor()\n",
    "        cursorObj.execute('INSERT INTO employees(id, name, salary, department, position, hireDate) VALUES(?, ?, ?, ?, ?, ?)', entities)\n",
    "    except Error:\n",
    "        print(Error)\n",
    "    con.commit()"
   ]
  },
  {
   "cell_type": "code",
   "execution_count": 67,
   "metadata": {},
   "outputs": [
    {
     "name": "stdout",
     "output_type": "stream",
     "text": [
      "(2, 'Andrew', 800, 'IT', 'Tech', '2018-02-06')\n",
      "Filas obtenidas: 1\n"
     ]
    }
   ],
   "source": [
    "entities = (2, 'Andrew', 800, 'IT', 'Tech', '2018-02-06')\n",
    "sql_insert(con, entities)\n",
    "sql_fetch_all(con)"
   ]
  },
  {
   "cell_type": "markdown",
   "metadata": {},
   "source": [
    "##### Ejemplo insertando fechas"
   ]
  },
  {
   "cell_type": "code",
   "execution_count": 68,
   "metadata": {},
   "outputs": [
    {
     "name": "stdout",
     "output_type": "stream",
     "text": [
      "(2, 'Andrew', 800, 'IT', 'Tech', '2018-02-06')\n",
      "(1, 'Jefecito', 600, 'CEO', 'BOSS', '2017-01-02')\n",
      "Filas obtenidas: 2\n"
     ]
    }
   ],
   "source": [
    "# SQLite3 datetime\n",
    "import datetime\n",
    "\n",
    "entities = (1, \"Jefecito\", 8000, 'CEO' , \"BOSS\", datetime.date(2017, 1, 2))\n",
    "sql_insert(con, entities)\n",
    "\n",
    "sql_fetch_all(con)"
   ]
  },
  {
   "cell_type": "markdown",
   "metadata": {},
   "source": [
    "#### Actualizar una tabla"
   ]
  },
  {
   "cell_type": "code",
   "execution_count": 71,
   "metadata": {},
   "outputs": [
    {
     "name": "stdout",
     "output_type": "stream",
     "text": [
      "(2, 'Rogers', 800, 'IT', 'Tech', '2018-02-06')\n",
      "(1, 'Jefecito', 600, 'CEO', 'BOSS', '2017-01-02')\n",
      "Filas obtenidas: 2\n"
     ]
    }
   ],
   "source": [
    "sql_query(con,'UPDATE employees SET name = \"Rogers\" where id = 2')\n",
    "sql_fetch_all(con)"
   ]
  },
  {
   "cell_type": "markdown",
   "metadata": {},
   "source": [
    "#### Delete data"
   ]
  },
  {
   "cell_type": "code",
   "execution_count": 72,
   "metadata": {},
   "outputs": [
    {
     "name": "stdout",
     "output_type": "stream",
     "text": [
      "(1, 'Jefecito', 600, 'CEO', 'BOSS', '2017-01-02')\n",
      "Filas obtenidas: 1\n"
     ]
    }
   ],
   "source": [
    "sql_query(con,\"DELETE FROM employees WHERE id = 2\")\n",
    "sql_fetch_all(con)"
   ]
  },
  {
   "cell_type": "markdown",
   "metadata": {},
   "source": [
    "#### Listar tablas en la DB"
   ]
  },
  {
   "cell_type": "code",
   "execution_count": 75,
   "metadata": {},
   "outputs": [
    {
     "data": {
      "text/plain": [
       "[('employees',)]"
      ]
     },
     "execution_count": 75,
     "metadata": {},
     "output_type": "execute_result"
    }
   ],
   "source": [
    "sql_query(con,'SELECT name from sqlite_master where type= \"table\"')"
   ]
  },
  {
   "cell_type": "markdown",
   "metadata": {},
   "source": [
    "#### close db connection, free DB for other app"
   ]
  },
  {
   "cell_type": "code",
   "execution_count": 78,
   "metadata": {},
   "outputs": [],
   "source": [
    "con.close()"
   ]
  },
  {
   "cell_type": "markdown",
   "metadata": {},
   "source": [
    "#### Execute SQL file, runing DB on RAM"
   ]
  },
  {
   "cell_type": "code",
   "execution_count": 79,
   "metadata": {},
   "outputs": [
    {
     "name": "stdout",
     "output_type": "stream",
     "text": [
      "('ORD', 'Chicago', 'United States')\n",
      "('JFK', 'New York City', 'United States')\n",
      "('CDG', 'Paris', 'France')\n",
      "('LHR', 'London', 'United Kingdom')\n",
      "('DME', 'Moscow', 'Russia')\n",
      "('SVO', 'Moscow', 'Russia')\n"
     ]
    }
   ],
   "source": [
    "# Create the database in RAM\n",
    "connection = sqlite3.connect(\":memory:\") \n",
    "\n",
    "cursor = connection.cursor()\n",
    "\n",
    "sql_file = open(\"airportSample.sql\")\n",
    "sql_as_string = sql_file.read()\n",
    "cursor.executescript(sql_as_string)\n",
    "\n",
    "for row in cursor.execute(\"SELECT * FROM airports\"):\n",
    "    print(row)"
   ]
  },
  {
   "cell_type": "markdown",
   "metadata": {},
   "source": [
    "#### CSV to DB"
   ]
  },
  {
   "cell_type": "code",
   "execution_count": null,
   "metadata": {},
   "outputs": [],
   "source": [
    "import sqlite3\n",
    "import csv\n",
    "import codecs\n",
    "\n",
    "from sqlite3 import Error\n",
    "from datetime import datetime\n",
    " \n",
    "def sql_connection(dbName):\n",
    "\ttry:\n",
    "\t\tcon = sqlite3.connect(dbName)\n",
    "\t\treturn con\n",
    "\texcept Error:\n",
    "\t\tprint(Error)\n",
    "\n",
    "\n",
    "\n",
    "def sql_createTable(SqlDBCon, tablaName, Columns):\n",
    "\tcursorObj = SqlDBCon.cursor()\n",
    "\t# creando tabla de velas\n",
    "\tcursorObj.execute(\"CREATE TABLE IF NOT EXISTS \"+tablaName+\"( \"+Columns+\" )\")\n",
    "\n",
    "\n",
    "\n",
    "def sql_csvToDB(SqlDBCon, csvFile, tablaName):\n",
    "\tcursorObj = SqlDBCon.cursor()\n",
    "\twith codecs.open(csvFile, 'rU', 'utf-16') as csv_file:\n",
    "\t\tcsv_reader = csv.reader(csv_file)\n",
    "\t\tline_count = 0\n",
    "\t\tColumns = \"\"\n",
    "\t\tfor row in csv_reader:\n",
    "\t\t\tif line_count == 0:\n",
    "\t\t\t\tColumns = f'{\", \".join(row)}'\n",
    "\t\t\t\tprint(f'Column names are: {Columns}')\n",
    "\t\t\t\t\n",
    "\t\t\telse:\n",
    "\t\t\t\tdate = datetime.strptime(row[0], '%Y.%m.%d %H:%M')\n",
    "\t\t\t\trow[0] = date.strftime(\"%Y-%m-%d %H:%M\")\n",
    "\t\t\t\tcursorObj.execute(\"INSERT INTO \"+tablaName+\"(\"+Columns+\")VALUES(?,?)\", row)\n",
    "\t\t\t\t#print(f'\\t{row[0]} works in the {row[1]} department, and was born in {row[2]}.')\n",
    "\t\t\tline_count += 1\n",
    "\t\n",
    "\tcon.commit()\n",
    "\tprint(f'Lineas porcesadas: {line_count}')"
   ]
  },
  {
   "cell_type": "code",
   "execution_count": null,
   "metadata": {},
   "outputs": [],
   "source": [
    "# connect to dataBase and create table\n",
    "con = sql_connection('trading.db')\n",
    "sql_createTable(con, \"ZZEurUsd4H\", \n",
    "    \"Date datetime PRIMARY KEY, ZZval decimal\")\n",
    "# recorrer csv y agregar a la db\n",
    "sql_csvToDB(con, 'ZZEurUsd4H12,6,3.csv', \"ZZEurUsd4H\")\n"
   ]
  }
 ],
 "metadata": {
  "kernelspec": {
   "display_name": "Python 3.10.0 64-bit",
   "language": "python",
   "name": "python3"
  },
  "language_info": {
   "codemirror_mode": {
    "name": "ipython",
    "version": 3
   },
   "file_extension": ".py",
   "mimetype": "text/x-python",
   "name": "python",
   "nbconvert_exporter": "python",
   "pygments_lexer": "ipython3",
   "version": "3.10.0"
  },
  "orig_nbformat": 4,
  "vscode": {
   "interpreter": {
    "hash": "c63d8c7d738c2960218a10995aedf0a7f67a49a231e71037adf0440953cdb45b"
   }
  }
 },
 "nbformat": 4,
 "nbformat_minor": 2
}
