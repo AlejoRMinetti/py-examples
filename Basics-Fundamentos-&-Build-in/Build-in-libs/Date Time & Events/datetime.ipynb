{
 "cells": [
  {
   "cell_type": "code",
   "execution_count": 2,
   "metadata": {},
   "outputs": [],
   "source": [
    "import datetime"
   ]
  },
  {
   "cell_type": "code",
   "execution_count": 4,
   "metadata": {},
   "outputs": [
    {
     "name": "stdout",
     "output_type": "stream",
     "text": [
      "2021-05-25\n"
     ]
    }
   ],
   "source": [
    "# datetime in string format for may 25 1999\n",
    "input = '25/05/2021'\n",
    "  \n",
    "# format\n",
    "format = '%d/%m/%Y'\n",
    "  \n",
    "# convert from string format to datetime format\n",
    "date = datetime.datetime.strptime(input, format)\n",
    "  \n",
    "# print for mySQL format\n",
    "print(date.strftime('%Y-%m-%d'))"
   ]
  },
  {
   "cell_type": "markdown",
   "metadata": {},
   "source": [
    "### ISO 8601"
   ]
  },
  {
   "cell_type": "code",
   "execution_count": 5,
   "metadata": {},
   "outputs": [
    {
     "name": "stdout",
     "output_type": "stream",
     "text": [
      "2022-09-19T11:04:46\n",
      "2022-09-19 11:04:46\n"
     ]
    }
   ],
   "source": [
    "# datetime in string ISO 8601 format\n",
    "input = '2022-09-19T11:04:46+00:00'\n",
    "# format\n",
    "format = '%Y-%m-%dT%H:%M:%S'\n",
    "# convert from string format to datetime format\n",
    "date = datetime.datetime.strptime(input[0:-6], format)\n",
    "print(input[0:-6])\n",
    "# print for mySQL format\n",
    "print(date.strftime('%Y-%m-%d %H:%M:%S'))"
   ]
  }
 ],
 "metadata": {
  "kernelspec": {
   "display_name": "Python 3.10.0 64-bit",
   "language": "python",
   "name": "python3"
  },
  "language_info": {
   "codemirror_mode": {
    "name": "ipython",
    "version": 3
   },
   "file_extension": ".py",
   "mimetype": "text/x-python",
   "name": "python",
   "nbconvert_exporter": "python",
   "pygments_lexer": "ipython3",
   "version": "3.10.0"
  },
  "orig_nbformat": 4,
  "vscode": {
   "interpreter": {
    "hash": "c63d8c7d738c2960218a10995aedf0a7f67a49a231e71037adf0440953cdb45b"
   }
  }
 },
 "nbformat": 4,
 "nbformat_minor": 2
}
