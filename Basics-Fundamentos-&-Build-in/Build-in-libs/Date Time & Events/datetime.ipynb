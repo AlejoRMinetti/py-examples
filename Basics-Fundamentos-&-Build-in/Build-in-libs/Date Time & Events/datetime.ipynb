{
 "cells": [
  {
   "cell_type": "code",
   "execution_count": 2,
   "metadata": {},
   "outputs": [],
   "source": [
    "import datetime"
   ]
  },
  {
   "cell_type": "code",
   "execution_count": 3,
   "metadata": {},
   "outputs": [
    {
     "name": "stdout",
     "output_type": "stream",
     "text": [
      "2021-05-25\n"
     ]
    }
   ],
   "source": [
    "# datetime in string format for may 25 1999\n",
    "input = '25/05/2021'\n",
    "  \n",
    "# format\n",
    "format = '%d/%m/%Y'\n",
    "  \n",
    "# convert from string format to datetime format\n",
    "datetime = datetime.datetime.strptime(input, format)\n",
    "  \n",
    "# print for mySQL format\n",
    "print(datetime.strftime('%Y-%m-%d'))"
   ]
  }
 ],
 "metadata": {
  "kernelspec": {
   "display_name": "Python 3.10.4 64-bit",
   "language": "python",
   "name": "python3"
  },
  "language_info": {
   "codemirror_mode": {
    "name": "ipython",
    "version": 3
   },
   "file_extension": ".py",
   "mimetype": "text/x-python",
   "name": "python",
   "nbconvert_exporter": "python",
   "pygments_lexer": "ipython3",
   "version": "3.10.4"
  },
  "orig_nbformat": 4,
  "vscode": {
   "interpreter": {
    "hash": "873e21717f42d2fe7eec6dce3cd2d5abc0ffafd921bc43abcb0ab928a2fb2107"
   }
  }
 },
 "nbformat": 4,
 "nbformat_minor": 2
}
