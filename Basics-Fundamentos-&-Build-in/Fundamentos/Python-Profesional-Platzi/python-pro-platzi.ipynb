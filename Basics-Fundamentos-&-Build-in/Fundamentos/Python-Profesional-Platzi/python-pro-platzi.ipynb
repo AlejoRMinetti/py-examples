{
 "cells": [
  {
   "cell_type": "markdown",
   "metadata": {},
   "source": [
    "# Curso de python profesional - Platzi\n",
    "## Tipado en python\n",
    "Python es un lenguaje de tipado dinamico, para convertirlo en tipado estatico evitando errores que pueden aparecer en tiempo de ejecucion se realiza las declaraciones explicitas del tipo de dato, como vemos en el error a continuacion un lenguaje de tipado dinamico, para convertirlo en tipado estatico evitando errores que pueden aparecer en tiempo de ejecucion se realiza las declaraciones explicitas del tipo de dato, como vemos en el error a continuacion"
   ]
  },
  {
   "cell_type": "code",
   "execution_count": 1,
   "metadata": {},
   "outputs": [
    {
     "ename": "AttributeError",
     "evalue": "'int' object has no attribute 'replace'",
     "output_type": "error",
     "traceback": [
      "\u001b[1;31m---------------------------------------------------------------------------\u001b[0m",
      "\u001b[1;31mAttributeError\u001b[0m                            Traceback (most recent call last)",
      "Input \u001b[1;32mIn [1]\u001b[0m, in \u001b[0;36m<module>\u001b[1;34m\u001b[0m\n\u001b[0;32m      2\u001b[0m     string \u001b[38;5;241m=\u001b[39m string\u001b[38;5;241m.\u001b[39mreplace(\u001b[38;5;124m'\u001b[39m\u001b[38;5;124m \u001b[39m\u001b[38;5;124m'\u001b[39m, \u001b[38;5;124m'\u001b[39m\u001b[38;5;124m'\u001b[39m)\u001b[38;5;241m.\u001b[39mlower()\n\u001b[0;32m      3\u001b[0m     \u001b[38;5;28;01mreturn\u001b[39;00m string \u001b[38;5;241m==\u001b[39m string[::\u001b[38;5;241m-\u001b[39m\u001b[38;5;241m1\u001b[39m]\n\u001b[1;32m----> 5\u001b[0m \u001b[38;5;28mprint\u001b[39m(\u001b[43mis_palindrome\u001b[49m\u001b[43m(\u001b[49m\u001b[38;5;241;43m1000\u001b[39;49m\u001b[43m)\u001b[49m)\n",
      "Input \u001b[1;32mIn [1]\u001b[0m, in \u001b[0;36mis_palindrome\u001b[1;34m(string)\u001b[0m\n\u001b[0;32m      1\u001b[0m \u001b[38;5;28;01mdef\u001b[39;00m \u001b[38;5;21mis_palindrome\u001b[39m(string: \u001b[38;5;28mstr\u001b[39m) \u001b[38;5;241m-\u001b[39m\u001b[38;5;241m>\u001b[39m \u001b[38;5;28mbool\u001b[39m:\n\u001b[1;32m----> 2\u001b[0m     string \u001b[38;5;241m=\u001b[39m \u001b[43mstring\u001b[49m\u001b[38;5;241;43m.\u001b[39;49m\u001b[43mreplace\u001b[49m(\u001b[38;5;124m'\u001b[39m\u001b[38;5;124m \u001b[39m\u001b[38;5;124m'\u001b[39m, \u001b[38;5;124m'\u001b[39m\u001b[38;5;124m'\u001b[39m)\u001b[38;5;241m.\u001b[39mlower()\n\u001b[0;32m      3\u001b[0m     \u001b[38;5;28;01mreturn\u001b[39;00m string \u001b[38;5;241m==\u001b[39m string[::\u001b[38;5;241m-\u001b[39m\u001b[38;5;241m1\u001b[39m]\n",
      "\u001b[1;31mAttributeError\u001b[0m: 'int' object has no attribute 'replace'"
     ]
    }
   ],
   "source": [
    "def is_palindrome(string: str) -> bool:\n",
    "    string = string.replace(' ', '').lower()\n",
    "    return string == string[::-1]\n",
    "\n",
    "print(is_palindrome(1000))"
   ]
  },
  {
   "cell_type": "markdown",
   "metadata": {},
   "source": [
    "## Closures\n",
    "Reglas para encontrar un closure\n",
    "- debemos tener una nested function\n",
    "- la nested function debe referenciar un valor de un scope superior\n",
    "- la función que envuelve la nested debe retornarla también\n",
    "cuando tenemos una clase que tiene solo un método\n",
    "cuando trabajamos con decoradores\n",
    "Ejemplo de un Clousure"
   ]
  },
  {
   "cell_type": "code",
   "execution_count": 2,
   "metadata": {},
   "outputs": [
    {
     "name": "stdout",
     "output_type": "stream",
     "text": [
      "HolaHolaHolaHolaHola\n"
     ]
    }
   ],
   "source": [
    "def make_repeater_of(n):\n",
    "    def repeater(string):\n",
    "        assert type(string) == str, 'Solo puedes repetir cadenas'\n",
    "        return string * n\n",
    "    return repeater\n",
    "\n",
    "repeat_5 = make_repeater_of(5)\n",
    "print(repeat_5('Hola'))"
   ]
  },
  {
   "cell_type": "markdown",
   "metadata": {},
   "source": [
    "## @Decorators\n",
    "Lo mismo se puede aplicar mediantes decoradores.\n",
    "Se puede envolver (mediate un wrapper) a la funcion para ejecutar codigo antes y/o despues de la ejecucion de la funcion, en este caso, para medir el tiempo que tarda en ejecutarse.\n",
    "(*args, **kwargs) permite poder enviar cualquier argumento"
   ]
  },
  {
   "cell_type": "code",
   "execution_count": 3,
   "metadata": {},
   "outputs": [
    {
     "name": "stdout",
     "output_type": "stream",
     "text": [
      "Pasaron 0.164261 segundos\n"
     ]
    }
   ],
   "source": [
    "from datetime import datetime\n",
    "\n",
    "def execution_time(func):\n",
    "    def wrapper(*args, **kwargs):\n",
    "        initial_time = datetime.now()\n",
    "        func(*args, **kwargs)\n",
    "        final_time = datetime.now()\n",
    "        time_elapsed = final_time - initial_time\n",
    "        print(f'Pasaron {time_elapsed.total_seconds()} segundos')\n",
    "    return wrapper\n",
    "\n",
    "@execution_time\n",
    "def random_func():\n",
    "    for _ in range(1, 10000000):\n",
    "        pass\n",
    "\n",
    "random_func()"
   ]
  },
  {
   "cell_type": "markdown",
   "metadata": {},
   "source": [
    "## Iteradores\n",
    "Se realiza mediante una clase como la siguiente para la implementacion de la seria de Fibonachi"
   ]
  },
  {
   "cell_type": "code",
   "execution_count": 4,
   "metadata": {},
   "outputs": [
    {
     "name": "stdout",
     "output_type": "stream",
     "text": [
      "0\n",
      "1\n",
      "1\n",
      "2\n",
      "3\n",
      "5\n",
      "8\n",
      "13\n",
      "21\n",
      "34\n",
      "55\n",
      "89\n",
      "144\n",
      "233\n",
      "377\n",
      "610\n",
      "987\n",
      "1597\n",
      "2584\n",
      "4181\n",
      "6765\n",
      "10946\n",
      "17711\n",
      "28657\n",
      "46368\n",
      "75025\n",
      "121393\n",
      "196418\n",
      "317811\n",
      "514229\n",
      "832040\n",
      "1346269\n",
      "2178309\n",
      "3524578\n",
      "5702887\n",
      "9227465\n",
      "14930352\n",
      "24157817\n",
      "39088169\n",
      "63245986\n",
      "102334155\n",
      "165580141\n",
      "267914296\n",
      "433494437\n",
      "701408733\n",
      "1134903170\n",
      "1836311903\n",
      "2971215073\n",
      "4807526976\n",
      "7778742049\n",
      "12586269025\n",
      "20365011074\n",
      "32951280099\n",
      "53316291173\n",
      "86267571272\n",
      "139583862445\n",
      "225851433717\n",
      "365435296162\n",
      "591286729879\n",
      "956722026041\n",
      "1548008755920\n",
      "2504730781961\n",
      "4052739537881\n",
      "6557470319842\n",
      "10610209857723\n",
      "17167680177565\n",
      "27777890035288\n",
      "44945570212853\n",
      "72723460248141\n",
      "117669030460994\n",
      "190392490709135\n",
      "308061521170129\n",
      "498454011879264\n",
      "806515533049393\n",
      "1304969544928657\n",
      "2111485077978050\n",
      "3416454622906707\n",
      "5527939700884757\n",
      "8944394323791464\n",
      "14472334024676221\n",
      "23416728348467685\n",
      "37889062373143906\n",
      "61305790721611591\n",
      "99194853094755497\n",
      "160500643816367088\n",
      "259695496911122585\n",
      "420196140727489673\n",
      "679891637638612258\n",
      "1100087778366101931\n",
      "1779979416004714189\n",
      "2880067194370816120\n",
      "4660046610375530309\n",
      "7540113804746346429\n",
      "12200160415121876738\n",
      "19740274219868223167\n",
      "31940434634990099905\n",
      "51680708854858323072\n",
      "83621143489848422977\n",
      "135301852344706746049\n",
      "218922995834555169026\n",
      "354224848179261915075\n",
      "573147844013817084101\n",
      "927372692193078999176\n",
      "1500520536206896083277\n",
      "2427893228399975082453\n",
      "3928413764606871165730\n",
      "6356306993006846248183\n",
      "10284720757613717413913\n",
      "16641027750620563662096\n",
      "26925748508234281076009\n",
      "43566776258854844738105\n",
      "70492524767089125814114\n",
      "114059301025943970552219\n",
      "184551825793033096366333\n",
      "298611126818977066918552\n",
      "483162952612010163284885\n",
      "781774079430987230203437\n",
      "1264937032042997393488322\n",
      "2046711111473984623691759\n",
      "3311648143516982017180081\n",
      "5358359254990966640871840\n",
      "8670007398507948658051921\n",
      "14028366653498915298923761\n",
      "22698374052006863956975682\n",
      "36726740705505779255899443\n",
      "59425114757512643212875125\n",
      "96151855463018422468774568\n",
      "155576970220531065681649693\n",
      "251728825683549488150424261\n",
      "407305795904080553832073954\n",
      "659034621587630041982498215\n",
      "1066340417491710595814572169\n",
      "1725375039079340637797070384\n",
      "2791715456571051233611642553\n",
      "4517090495650391871408712937\n",
      "7308805952221443105020355490\n",
      "11825896447871834976429068427\n",
      "19134702400093278081449423917\n",
      "30960598847965113057878492344\n",
      "50095301248058391139327916261\n",
      "81055900096023504197206408605\n",
      "131151201344081895336534324866\n",
      "212207101440105399533740733471\n",
      "343358302784187294870275058337\n",
      "555565404224292694404015791808\n",
      "898923707008479989274290850145\n",
      "1454489111232772683678306641953\n",
      "2353412818241252672952597492098\n",
      "3807901929474025356630904134051\n",
      "6161314747715278029583501626149\n",
      "9969216677189303386214405760200\n",
      "16130531424904581415797907386349\n",
      "26099748102093884802012313146549\n",
      "42230279526998466217810220532898\n",
      "68330027629092351019822533679447\n",
      "110560307156090817237632754212345\n",
      "178890334785183168257455287891792\n",
      "289450641941273985495088042104137\n",
      "468340976726457153752543329995929\n",
      "757791618667731139247631372100066\n",
      "1226132595394188293000174702095995\n",
      "1983924214061919432247806074196061\n",
      "3210056809456107725247980776292056\n"
     ]
    },
    {
     "ename": "KeyboardInterrupt",
     "evalue": "",
     "output_type": "error",
     "traceback": [
      "\u001b[1;31m---------------------------------------------------------------------------\u001b[0m",
      "\u001b[1;31mKeyboardInterrupt\u001b[0m                         Traceback (most recent call last)",
      "Input \u001b[1;32mIn [4]\u001b[0m, in \u001b[0;36m<module>\u001b[1;34m\u001b[0m\n\u001b[0;32m     28\u001b[0m \u001b[38;5;28;01mfor\u001b[39;00m element \u001b[38;5;129;01min\u001b[39;00m fibonacci:\n\u001b[0;32m     29\u001b[0m     \u001b[38;5;28mprint\u001b[39m(element)\n\u001b[1;32m---> 30\u001b[0m     \u001b[43mtime\u001b[49m\u001b[38;5;241;43m.\u001b[39;49m\u001b[43msleep\u001b[49m\u001b[43m(\u001b[49m\u001b[38;5;241;43m0.05\u001b[39;49m\u001b[43m)\u001b[49m\n",
      "\u001b[1;31mKeyboardInterrupt\u001b[0m: "
     ]
    }
   ],
   "source": [
    "import time\n",
    "\n",
    "class FiboIter():\n",
    "\n",
    "    def __iter__(self):\n",
    "        self.n1 = 0\n",
    "        self.n2 = 1\n",
    "        self.counter = 0\n",
    "        return self\n",
    "\n",
    "    def __next__(self):\n",
    "        if self.counter == 0:\n",
    "            self.counter += 1\n",
    "            return self.n1\n",
    "        elif self.counter == 1:\n",
    "            self.counter += 1\n",
    "            return self.n2\n",
    "        else:\n",
    "            self.aux = self.n1 + self.n2\n",
    "            # self.n1 = self.n2\n",
    "            # self.n2 = self.aux\n",
    "            self.n1, self.n2 = self.n2, self.aux\n",
    "            self.counter += 1\n",
    "            return self.aux\n",
    "\n",
    "\n",
    "fibonacci = FiboIter()\n",
    "for element in fibonacci:\n",
    "    print(element)\n",
    "    time.sleep(0.05)"
   ]
  },
  {
   "cell_type": "markdown",
   "metadata": {},
   "source": [
    "Para poder interrumpirla (y finalizar el for) se debe enviar la excepcion StopIteration"
   ]
  },
  {
   "cell_type": "code",
   "execution_count": 7,
   "metadata": {},
   "outputs": [
    {
     "name": "stdout",
     "output_type": "stream",
     "text": [
      "0\n",
      "1\n",
      "1\n",
      "2\n",
      "3\n",
      "5\n",
      "8\n",
      "13\n",
      "21\n",
      "34\n",
      "55\n",
      "89\n",
      "144\n",
      "233\n",
      "377\n",
      "610\n",
      "987\n",
      "1597\n",
      "2584\n",
      "4181\n",
      "6765\n",
      "10946\n",
      "17711\n",
      "28657\n",
      "46368\n",
      "75025\n"
     ]
    }
   ],
   "source": [
    "import time\n",
    "\n",
    "class FiboIter():\n",
    "\n",
    "    def __init__(self, max = 100000):\n",
    "        self.max_value = max\n",
    "\n",
    "    def __iter__(self):\n",
    "        self.n1 = 0\n",
    "        self.n2 = 1\n",
    "        self.counter = 0\n",
    "        return self\n",
    "\n",
    "    def __next__(self):\n",
    "        if self.counter == 0:\n",
    "            self.counter += 1\n",
    "            return self.n1\n",
    "        elif self.counter == 1:\n",
    "            self.counter += 1\n",
    "            return self.n2\n",
    "        else:\n",
    "            self.aux = self.n1 + self.n2\n",
    "            if self.aux <= self.max_value:\n",
    "                self.n1, self.n2 = self.n2, self.aux\n",
    "                self.counter += 1\n",
    "                return self.aux\n",
    "            else:\n",
    "                raise StopIteration\n",
    "\n",
    "\n",
    "fibonacci = FiboIter()\n",
    "for element in fibonacci:\n",
    "    print(element)\n",
    "    time.sleep(0.05)"
   ]
  },
  {
   "cell_type": "markdown",
   "metadata": {},
   "source": [
    "## Generator\n",
    "Azucar sintactica de los iteradores"
   ]
  },
  {
   "cell_type": "code",
   "execution_count": 5,
   "metadata": {},
   "outputs": [
    {
     "name": "stdout",
     "output_type": "stream",
     "text": [
      "0\n",
      "1\n",
      "1\n",
      "2\n",
      "3\n",
      "5\n",
      "8\n",
      "13\n",
      "21\n",
      "34\n",
      "55\n",
      "89\n",
      "144\n",
      "233\n",
      "377\n",
      "610\n",
      "987\n"
     ]
    }
   ],
   "source": [
    "import time\n",
    "\n",
    "def fibo_gen(max = 100000):\n",
    "    n1 = 0\n",
    "    n2 = 1\n",
    "    counter = 0\n",
    "    while True:\n",
    "        if counter == 0:\n",
    "            counter += 1\n",
    "            yield n1\n",
    "        elif counter == 1:\n",
    "            counter += 1\n",
    "            yield n2\n",
    "        else:\n",
    "            aux = n1 + n2\n",
    "            n1, n2 = n2, aux\n",
    "            counter += 1\n",
    "            if aux >= max:\n",
    "                break\n",
    "            else:\n",
    "                yield aux\n",
    "\n",
    "\n",
    "fibonacci = fibo_gen(1000)\n",
    "for element in fibonacci:\n",
    "    print(element)\n",
    "    time.sleep(.05)"
   ]
  },
  {
   "cell_type": "code",
   "execution_count": 6,
   "metadata": {},
   "outputs": [
    {
     "data": {
      "text/plain": [
       "{1}"
      ]
     },
     "execution_count": 6,
     "metadata": {},
     "output_type": "execute_result"
    }
   ],
   "source": [
    "c1 = {1,2,3}\n",
    "c2 = {2,3,4}\n",
    "c1-c2\t"
   ]
  },
  {
   "cell_type": "markdown",
   "metadata": {},
   "source": [
    "DateTime build-in library\n",
    "pyty libreria para usos horarios"
   ]
  },
  {
   "cell_type": "code",
   "execution_count": 7,
   "metadata": {},
   "outputs": [
    {
     "name": "stdout",
     "output_type": "stream",
     "text": [
      "Bogotá: 16/02/2022, 17:02:41\n",
      "Ciudad de México: 16/02/2022, 16:02:41\n",
      "Caracas: 16/02/2022, 18:02:41\n"
     ]
    }
   ],
   "source": [
    "from datetime import datetime\n",
    "import pytz\n",
    "\n",
    "my_city_timezone = pytz.timezone('America/Bogota')\n",
    "my_city_time = datetime.now(my_city_timezone)\n",
    "print(\"Bogotá:\", my_city_time.strftime(\"%d/%m/%Y, %H:%M:%S\"))\n",
    "\n",
    "my_city_timezone = pytz.timezone('America/Mexico_City')\n",
    "my_city_time = datetime.now(my_city_timezone)\n",
    "print(\"Ciudad de México:\", my_city_time.strftime(\"%d/%m/%Y, %H:%M:%S\"))\n",
    "\n",
    "my_city_timezone = pytz.timezone('America/Caracas')\n",
    "my_city_time = datetime.now(my_city_timezone)\n",
    "print(\"Caracas:\", my_city_time.strftime(\"%d/%m/%Y, %H:%M:%S\"))"
   ]
  },
  {
   "cell_type": "markdown",
   "metadata": {},
   "source": [
    "## Sets\n",
    "conjunto desordenado de elementos unicos e inmutables"
   ]
  },
  {
   "cell_type": "code",
   "execution_count": null,
   "metadata": {},
   "outputs": [],
   "source": []
  },
  {
   "cell_type": "markdown",
   "metadata": {},
   "source": [
    "Como podriamos realizar la siguiente funcion mediante Sets ?"
   ]
  },
  {
   "cell_type": "code",
   "execution_count": 1,
   "metadata": {},
   "outputs": [
    {
     "name": "stdout",
     "output_type": "stream",
     "text": [
      "[1, 2, 3, 'Platzi', 4.6, False]\n"
     ]
    }
   ],
   "source": [
    "def remove_duplicates(some_list):\n",
    "    without_duplicates = []\n",
    "    for element in some_list:\n",
    "        if element not in without_duplicates:\n",
    "            without_duplicates.append(element)\n",
    "    return without_duplicates\n",
    "\n",
    "random_list = [1, 2, 2, 2, 3, \"Platzi\", \"Platzi\", True, 4.6, False]\n",
    "print(remove_duplicates(random_list))"
   ]
  },
  {
   "cell_type": "markdown",
   "metadata": {},
   "source": [
    "Asi de simple se puede resolver con sets:"
   ]
  },
  {
   "cell_type": "code",
   "execution_count": 3,
   "metadata": {},
   "outputs": [
    {
     "name": "stdout",
     "output_type": "stream",
     "text": [
      "[False, 1, 2, 3, 4.6, 'Platzi']\n"
     ]
    }
   ],
   "source": [
    "def remove_duplicates_with_sets(some_list):\n",
    "    return list(set(some_list))\n",
    "\n",
    "random_list = [1, 2, 2, 2, 3, \"Platzi\", \"Platzi\", True, 4.6, False, True]\n",
    "print(remove_duplicates_with_sets(random_list))"
   ]
  }
 ],
 "metadata": {
  "interpreter": {
   "hash": "2175c0c658e7eb78b1d57bde256642f58c1e8eafeaa591afd0213af9a7f8b1f0"
  },
  "kernelspec": {
   "display_name": "Python 3.9.9 64-bit",
   "language": "python",
   "name": "python3"
  },
  "language_info": {
   "codemirror_mode": {
    "name": "ipython",
    "version": 3
   },
   "file_extension": ".py",
   "mimetype": "text/x-python",
   "name": "python",
   "nbconvert_exporter": "python",
   "pygments_lexer": "ipython3",
   "version": "3.10.0"
  },
  "orig_nbformat": 4
 },
 "nbformat": 4,
 "nbformat_minor": 2
}
