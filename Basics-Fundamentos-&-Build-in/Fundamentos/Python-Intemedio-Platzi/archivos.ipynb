{
 "cells": [
  {
   "cell_type": "markdown",
   "metadata": {},
   "source": [
    "Read files"
   ]
  },
  {
   "cell_type": "code",
   "execution_count": 1,
   "metadata": {},
   "outputs": [
    {
     "name": "stdout",
     "output_type": "stream",
     "text": [
      "[1, 35, 76, 93, 1, 4, 6, 112, 9, 1]\n"
     ]
    }
   ],
   "source": [
    "numbers = []\n",
    "with open(\"./archivos/numbers.txt\", \"r\") as f: \n",
    "    for line in f:\n",
    "        numbers.append(int(line))\n",
    "print(numbers)"
   ]
  },
  {
   "cell_type": "markdown",
   "metadata": {},
   "source": [
    "Write file"
   ]
  },
  {
   "cell_type": "code",
   "execution_count": null,
   "metadata": {},
   "outputs": [],
   "source": [
    "names = [\"Facundo\", \"Gregorio\", \"Marta\", \"Susana\", \"Jose\"]\n",
    "with open(\"./archivos/names.txt\", \"w\") as f:\n",
    "    for name in names: \n",
    "        f.write(name)\n",
    "        f.write(\"\\n\")"
   ]
  },
  {
   "cell_type": "code",
   "execution_count": null,
   "metadata": {},
   "outputs": [],
   "source": []
  }
 ],
 "metadata": {
  "kernelspec": {
   "display_name": "Python 3.10.4 64-bit",
   "language": "python",
   "name": "python3"
  },
  "language_info": {
   "codemirror_mode": {
    "name": "ipython",
    "version": 3
   },
   "file_extension": ".py",
   "mimetype": "text/x-python",
   "name": "python",
   "nbconvert_exporter": "python",
   "pygments_lexer": "ipython3",
   "version": "3.10.4"
  },
  "orig_nbformat": 4,
  "vscode": {
   "interpreter": {
    "hash": "873e21717f42d2fe7eec6dce3cd2d5abc0ffafd921bc43abcb0ab928a2fb2107"
   }
  }
 },
 "nbformat": 4,
 "nbformat_minor": 2
}
