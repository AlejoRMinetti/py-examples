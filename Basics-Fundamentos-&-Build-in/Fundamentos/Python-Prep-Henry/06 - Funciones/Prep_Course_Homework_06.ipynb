{
 "cells": [
  {
   "cell_type": "markdown",
   "metadata": {},
   "source": [
    "## Funciones"
   ]
  },
  {
   "cell_type": "markdown",
   "metadata": {},
   "source": [
    "1) Crear una función que reciba un número como parámetro y devuelva si True si es primo y False si no lo es"
   ]
  },
  {
   "cell_type": "code",
   "execution_count": 1,
   "metadata": {},
   "outputs": [],
   "source": []
  },
  {
   "cell_type": "markdown",
   "metadata": {},
   "source": [
    "2) Utilizando la función del punto 1, realizar otra función que reciba de parámetro una lista de números y devuelva sólo aquellos que son primos en otra lista"
   ]
  },
  {
   "cell_type": "code",
   "execution_count": 25,
   "metadata": {},
   "outputs": [],
   "source": []
  },
  {
   "cell_type": "code",
   "execution_count": 26,
   "metadata": {},
   "outputs": [
    {
     "data": {
      "text/plain": [
       "[1, 2, 3, 5, 7, 11, 13, 17, 19]"
      ]
     },
     "execution_count": 26,
     "metadata": {},
     "output_type": "execute_result"
    }
   ],
   "source": []
  },
  {
   "cell_type": "markdown",
   "metadata": {},
   "source": [
    "3) Crear una función que al recibir una lista de números, devuelva el que más se repite y cuántas veces lo hace. Si hay más de un \"más repetido\", que devuelva cualquiera"
   ]
  },
  {
   "cell_type": "code",
   "execution_count": 33,
   "metadata": {},
   "outputs": [],
   "source": []
  },
  {
   "cell_type": "code",
   "execution_count": 4,
   "metadata": {},
   "outputs": [
    {
     "name": "stdout",
     "output_type": "stream",
     "text": [
      "La moda es:  5 y se repite:  3 veces\n"
     ]
    }
   ],
   "source": [
    "listaEjemplo = [1,2,3,4,5,5,6,7,5,8,9,10]\n",
    "def modaDeLista(miLista):\n",
    "    moda = 0\n",
    "    repeticiones = 0\n",
    "    for i in miLista:\n",
    "        if miLista.count(i) > repeticiones:\n",
    "            moda = i\n",
    "            repeticiones = miLista.count(i)\n",
    "    print(\"La moda es: \", moda,\"y se repite: \", repeticiones,\"veces\")\n",
    "\n",
    "modaDeLista(listaEjemplo)\n"
   ]
  },
  {
   "cell_type": "markdown",
   "metadata": {},
   "source": [
    "4) A la función del punto 3, agregar un parámetro más, que permita elegir si se requiere el menor o el mayor de los mas repetidos."
   ]
  },
  {
   "cell_type": "code",
   "execution_count": 45,
   "metadata": {},
   "outputs": [],
   "source": []
  },
  {
   "cell_type": "code",
   "execution_count": 46,
   "metadata": {},
   "outputs": [
    {
     "name": "stdout",
     "output_type": "stream",
     "text": [
      "El valor modal es 5 y se repite 3 veces.\n"
     ]
    }
   ],
   "source": []
  },
  {
   "cell_type": "markdown",
   "metadata": {},
   "source": [
    "5) Crear una función que convierta entre grados Celsius, Farenheit y Kelvin<br>\n",
    "Fórmula 1\t: (°C × 9/5) + 32 = °F<br>\n",
    "Fórmula 2\t: °C + 273.15 = °K<br>\n",
    "Debe recibir 3 parámetros: el valor, la medida de orígen y la medida de destino\n"
   ]
  },
  {
   "cell_type": "code",
   "execution_count": null,
   "metadata": {},
   "outputs": [],
   "source": [
    "#Crear una función que convierta entre grados Celsius, Farenheit y Kelvin\n",
    "# Fórmula 1\t: (°C × 9/5) + 32 = °F\n",
    "# Fórmula 2\t: °C + 273.15 = °K\n",
    "# Debe recibir 3 parámetros: el valor, la medida de orígen y la medida de destino\n",
    "# Debe retornar el valor convertido\n",
    "\n",
    "def convertirGrados(valor, medidaOrigen, medidaDestino):\n",
    "    if medidaOrigen == \"C\" and medidaDestino == \"F\":\n",
    "        return (valor * 9/5) + 32\n",
    "    if medidaOrigen == \"C\" and medidaDestino == \"K\":\n",
    "        return valor + 273.15\n",
    "    if medidaOrigen == \"F\" and medidaDestino == \"C\":\n",
    "        return (valor - 32) * 5/9\n",
    "    if medidaOrigen == \"F\" and medidaDestino == \"K\":\n",
    "        return ((valor - 32) * 5/9) + 273.15\n",
    "    if medidaOrigen == \"K\" and medidaDestino == \"C\":\n",
    "        return valor - 273.15\n",
    "    if medidaOrigen == \"K\" and medidaDestino == \"F\":\n",
    "        return ((valor - 273.15) * 9/5) + 32\n",
    "    else:\n",
    "        return \"Error\"\n",
    "\n",
    "print(convertirGrados(5, \"C\", \"F\"))\n",
    "print(convertirGrados(5, \"C\", \"K\"))\n",
    "print(convertirGrados(5, \"F\", \"C\"))\n",
    "print(convertirGrados(5, \"F\", \"K\"))\n",
    "print(convertirGrados(5, \"K\", \"C\"))\n",
    "print(convertirGrados(5, \"K\", \"F\"))\n",
    "print(convertirGrados(5, \"K\", \"K\"))\n",
    "print(convertirGrados(5, \"K\", \"K\"))"
   ]
  },
  {
   "cell_type": "markdown",
   "metadata": {},
   "source": [
    "6) Iterando una lista con los tres valores posibles de temperatura que recibe la función del punto 5, hacer un print para cada combinación de los mismos:"
   ]
  },
  {
   "cell_type": "code",
   "execution_count": 62,
   "metadata": {},
   "outputs": [
    {
     "name": "stdout",
     "output_type": "stream",
     "text": [
      "1 grado celsius a celsius : 1\n",
      "1 grado celsius a kelvin : 274.15\n",
      "1 grado celsius a farenheit : 33.8\n",
      "1 grado kelvin a celsius : -272.15\n",
      "1 grado kelvin a kelvin : 1\n",
      "1 grado kelvin a farenheit : -457.87\n",
      "1 grado farenheit a celsius : -17.22222222222222\n",
      "1 grado farenheit a kelvin : 255.92777777777775\n",
      "1 grado farenheit a farenheit : 1\n"
     ]
    }
   ],
   "source": [
    "metricas = ['celsius','kelvin','farenheit']\n",
    "for i in range(0,3):\n",
    "    for j in range(0,3):\n",
    "        print('1 grado', metricas[i], 'a', metricas[j],':', conversion_grados(1, metricas[i], metricas[j]))"
   ]
  },
  {
   "cell_type": "markdown",
   "metadata": {},
   "source": [
    "7) Armar una función que devuelva el factorial de un número. Tener en cuenta que el usuario puede equivocarse y enviar de parámetro un número no entero o negativo"
   ]
  },
  {
   "cell_type": "code",
   "execution_count": 65,
   "metadata": {},
   "outputs": [
    {
     "name": "stdout",
     "output_type": "stream",
     "text": [
      "6\n",
      "El numero debe ser pisitivo\n",
      "El numero debe ser un entero\n",
      "El numero debe ser un entero\n"
     ]
    }
   ],
   "source": [
    "def factorial(numero):\n",
    "    if(type(numero) != int):\n",
    "        return 'El numero debe ser un entero'\n",
    "    if(numero < 0):\n",
    "        return 'El numero debe ser pisitivo'\n",
    "    if (numero > 1):\n",
    "        numero = numero * factorial(numero - 1)\n",
    "    return numero\n",
    "print(factorial(3))\n",
    "print(factorial(-2))\n",
    "print(factorial(1.23))\n",
    "print(factorial('6'))"
   ]
  },
  {
   "cell_type": "code",
   "execution_count": 2,
   "metadata": {},
   "outputs": [
    {
     "name": "stdout",
     "output_type": "stream",
     "text": [
      "0 1 1 2 3 5 8 13 21 34 55 89 0 1 1 2 3 5 8 13 21 34 55 89 <generator object fibonacci at 0x000001E07072DA50> <generator object fibonacci at 0x000001E07072DA50> <generator object fibonacci at 0x000001E07072DA50> <generator object fibonacci at 0x000001E07072DA50> <generator object fibonacci at 0x000001E07072DA50> <generator object fibonacci at 0x000001E07072DA50> <generator object fibonacci at 0x000001E07072DA50> <generator object fibonacci at 0x000001E07072DA50> <generator object fibonacci at 0x000001E07072DA50> <generator object fibonacci at 0x000001E07072DA50> <generator object fibonacci at 0x000001E07072DA50> <generator object fibonacci at 0x000001E07072DA50> <generator object fibonacci at 0x000001E07072DA50> <generator object fibonacci at 0x000001E07072DA50> <generator object fibonacci at 0x000001E07072DA50> <generator object fibonacci at 0x000001E07072DA50> <generator object fibonacci at 0x000001E07072DA50> <generator object fibonacci at 0x000001E07072DA50> <generator object fibonacci at 0x000001E07072DA50> <generator object fibonacci at 0x000001E07072DA50> "
     ]
    }
   ],
   "source": [
    "# fibonacci recursivo\n",
    "def fibonacci(numero):\n",
    "    if (numero == 0):\n",
    "        return 0\n",
    "    elif (numero == 1):\n",
    "        return 1\n",
    "    else:\n",
    "        return fibonacci(numero - 1) + fibonacci(numero - 2)\n",
    "\n",
    "# fibonacci iterable class\n",
    "class Fibonacci:\n",
    "    def __init__(self, max):\n",
    "        self.max = max\n",
    "    def __iter__(self):\n",
    "        self.a = 0\n",
    "        self.b = 1\n",
    "        return self\n",
    "    def __next__(self):\n",
    "        fibonacci = self.a\n",
    "        if fibonacci > self.max:\n",
    "            raise StopIteration\n",
    "        self.a, self.b = self.b, self.a + self.b\n",
    "        return fibonacci\n",
    "\n",
    "# fibonacci generator function\n",
    "def fibonacci(max):\n",
    "    a, b = 0, 1\n",
    "    while a < max:\n",
    "        yield a\n",
    "        a, b = b, a + b\n",
    "\n",
    "# test fibonacci iterable class\n",
    "for i in Fibonacci(100):\n",
    "    print(i, end=' ')\n",
    "\n",
    "\n",
    "# test fibonacci generator function\n",
    "for i in fibonacci(100):\n",
    "    print(i, end=' ')\n",
    "\n",
    "# test fibonacci recursivo\n",
    "for i in range(0,20):\n",
    "    print(fibonacci(i), end=' ')\n"
   ]
  }
 ],
 "metadata": {
  "interpreter": {
   "hash": "c85384e4cb51c8b72350f3a8712cc8351fdc3955e32a27f9b60c6242ab125f01"
  },
  "kernelspec": {
   "display_name": "Python 3 (ipykernel)",
   "language": "python",
   "name": "python3"
  },
  "language_info": {
   "codemirror_mode": {
    "name": "ipython",
    "version": 3
   },
   "file_extension": ".py",
   "mimetype": "text/x-python",
   "name": "python",
   "nbconvert_exporter": "python",
   "pygments_lexer": "ipython3",
   "version": "3.8.10"
  }
 },
 "nbformat": 4,
 "nbformat_minor": 4
}
