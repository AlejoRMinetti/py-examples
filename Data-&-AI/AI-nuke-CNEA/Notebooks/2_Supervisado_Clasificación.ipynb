{
 "cells": [
  {
   "cell_type": "markdown",
   "id": "BGAvWhXIXUXu",
   "metadata": {
    "id": "BGAvWhXIXUXu"
   },
   "source": [
    "# Clasificación"
   ]
  },
  {
   "cell_type": "markdown",
   "id": "adde70ae",
   "metadata": {
    "id": "adde70ae"
   },
   "source": [
    "## Repaso de regresión"
   ]
  },
  {
   "cell_type": "markdown",
   "id": "_vO4ONedXUYB",
   "metadata": {
    "id": "_vO4ONedXUYB"
   },
   "source": [
    "Hasta ahora estuvimos viendo problemas de **regresión**, donde la variable *target* ($t$; por ejemplo, el precio de las casas en el dataset de Properati) es una varible continua y vimos cómo abordar los problemas de regresión utilizando **modelos lineales**, es decir, aquellos donde la respuesta de la variable target es lineal con el cambio de las *características* de los datos. Por ejemplo, si aumenta la superficie de un vivienda en un metro cuadrado, el modelo predice el **mismo aumento en el precio**, independientemente de si pasamos de un monoambiente de 18 $\\text{m}^2$ a 19 $\\text{m}^2$ o si pasamos de una cinco ambientes de 180 $\\text{m}^2$ a 181 $\\text{m}^2$.\n",
    "\n",
    "¿Poco realista? Puede ser, pero recuerden que esta idea sencilla es mucho más flexible de lo que parece, porque podemos incluir **características no lineales**, como \"superficie al cuadrado\", que nos permiten captar relaciones más complejas conservando toda la simpleza matemática de los modelos lineales (❤️)."
   ]
  },
  {
   "cell_type": "markdown",
   "id": "e18dc2db",
   "metadata": {
    "id": "e18dc2db"
   },
   "source": [
    "## Un mundo nuevo: clasificación"
   ]
  },
  {
   "cell_type": "markdown",
   "id": "3db15d23",
   "metadata": {
    "id": "3db15d23"
   },
   "source": [
    "En los problemas de **clasificación** la variable a modelar es una *categoría* o *clase*.\n",
    "\n",
    "Ejemplos:\n",
    "\n",
    "1. Si la propiedad es una casa o un departamento (Properati)\n",
    "2. El tipo de corte de un diamante (diamonds)\n",
    "3. La cercanía al océano de un distrito (California)\n",
    "...\n",
    "\n",
    "En estos casos, también vamos a poder usar **modelos lineales** pero vamos a tener que darles una vuelta de rosca para convertirlos en **modelos lineales generalizados**.\n",
    "\n",
    "Al igual que venimos haciendo, el objetivo va a ser modelar la variable *target* en función de una serie de *características* (que llamaremos en general $X$, pero vamos a intentar ser más explícitos en este notebook).\n",
    "\n",
    "Además, las tareas de clasificación pueden subdividirse según el número de objetivos que tengamos (etiqueta única o etiqueta múltiple) y el número de valores, o *clases*, que puede tomar el objetivo (binario o multiclase), pero estos son temas más avanzados. Arranquemos desde el principio."
   ]
  },
  {
   "cell_type": "markdown",
   "id": "17c802f9",
   "metadata": {
    "id": "17c802f9"
   },
   "source": [
    "### Un detalle: codificar las clases"
   ]
  },
  {
   "cell_type": "markdown",
   "id": "09f2d430",
   "metadata": {
    "id": "09f2d430"
   },
   "source": [
    "¿Cómo hacemos para que un algoritmo entienda que tiene que separar los datos que son \"departamentos\" de \"casas\"? En principio, necesitamos **codificar** estas clases para poder operar con ellas.\n",
    "\n",
    "Se puede codificar variables explicativas (**características**) categóricas usando, por ejemplo, `OneHotEncoder`, esto asignará un número a cada categoría existente. Acá vamos a hacer algo parecido. Una práctica común, en los casos binarios que vamos a estudiar hoy (es decir, donde solo hay dos clases, que además son excluyentes), es que la variable target tome valores 0 (o -1) y 1 dependiendo de si la instancia es una casa o un depto, respectivamente. Por supuesto, hay arbitrariedad en cuál es la clase 0 y la clase 1; en general, se elijen según las características del problema.\n",
    "\n",
    "El ejemplo que veremos ya está codificado, si por ejemplo se quiere crear una nueva columna codificada con `tipo_propiedad` del dataset de properati se puede utilizar `LabelEncoder`:\n",
    "\n",
    "***\n",
    "```python\n",
    "from sklearn.preprocessing import LabelEncoder\n",
    "\n",
    "label_encoder = LabelEncoder()\n",
    "df_properati['tipo_propiedad_encoded'] = label_encoder.fit_transform(df_properati['tipo_propiedad'])\n",
    "...\n",
    "\n",
    "\n"
   ]
  },
  {
   "cell_type": "markdown",
   "id": "Mdt4_yvgXUYC",
   "metadata": {
    "id": "Mdt4_yvgXUYC"
   },
   "source": [
    "## Clasificación binaria"
   ]
  },
  {
   "cell_type": "markdown",
   "id": "FIxUrvpDXUYD",
   "metadata": {
    "id": "FIxUrvpDXUYD"
   },
   "source": [
    "[Old Faithful](https://es.wikipedia.org/wiki/Old_Faithful) es un geiser del parque Yellowstone que exhibe una notable regularidad entre erupciones. Las erupciones pueden largar entre 14,000 y 32,000 litros de agua hirviendo a una altura de más de 50 metros.\n",
    "\n",
    "La duración de las erupciones muestra una distribución bimodal, es decir, que hay erupciones \"largas\" y \"cortas\". Veamos los datos de duración en relación con el intervalo entre erupciones (tiempo de espera de cada erupción).\n",
    "\n",
    "**Invento**. Vamos a suponer que las erupciones de Old Faithful pueden separarse en dos clases, según el grado de salinidad de las erupciones. Para eso, hay que extraer una muestra del agua de una erupción, y medir su salinidad con alguna técnica de laboratorio.\n",
    "\n",
    "Preparamos un dataset de duración y tiempo espera entre las erupciones, y agregamos una variable según si la erupción fue clasificada como de \"alta salinidad\" (clase 1) o \"baja salinidad\" (clase 0)."
   ]
  },
  {
   "cell_type": "code",
   "execution_count": 2,
   "id": "fc189d2b",
   "metadata": {
    "colab": {
     "base_uri": "https://localhost:8080/",
     "height": 379
    },
    "executionInfo": {
     "elapsed": 7,
     "status": "ok",
     "timestamp": 1687815230555,
     "user": {
      "displayName": "Fernán Agüero",
      "userId": "05031512799194115181"
     },
     "user_tz": 180
    },
    "id": "fc189d2b",
    "outputId": "cf259abf-43a2-4d64-dafa-8c0ce04862ae"
   },
   "outputs": [
    {
     "name": "stdout",
     "output_type": "stream",
     "text": [
      "<class 'pandas.core.frame.DataFrame'>\n",
      "RangeIndex: 272 entries, 0 to 271\n",
      "Data columns (total 3 columns):\n",
      " #   Column      Non-Null Count  Dtype  \n",
      "---  ------      --------------  -----  \n",
      " 0   durac_erup  272 non-null    float64\n",
      " 1   espera      272 non-null    int64  \n",
      " 2   clase       272 non-null    int64  \n",
      "dtypes: float64(1), int64(2)\n",
      "memory usage: 6.5 KB\n"
     ]
    },
    {
     "data": {
      "text/html": [
       "<div>\n",
       "<style scoped>\n",
       "    .dataframe tbody tr th:only-of-type {\n",
       "        vertical-align: middle;\n",
       "    }\n",
       "\n",
       "    .dataframe tbody tr th {\n",
       "        vertical-align: top;\n",
       "    }\n",
       "\n",
       "    .dataframe thead th {\n",
       "        text-align: right;\n",
       "    }\n",
       "</style>\n",
       "<table border=\"1\" class=\"dataframe\">\n",
       "  <thead>\n",
       "    <tr style=\"text-align: right;\">\n",
       "      <th></th>\n",
       "      <th>durac_erup</th>\n",
       "      <th>espera</th>\n",
       "      <th>clase</th>\n",
       "    </tr>\n",
       "  </thead>\n",
       "  <tbody>\n",
       "    <tr>\n",
       "      <th>0</th>\n",
       "      <td>3.600</td>\n",
       "      <td>79</td>\n",
       "      <td>1</td>\n",
       "    </tr>\n",
       "    <tr>\n",
       "      <th>1</th>\n",
       "      <td>1.800</td>\n",
       "      <td>54</td>\n",
       "      <td>0</td>\n",
       "    </tr>\n",
       "    <tr>\n",
       "      <th>2</th>\n",
       "      <td>3.333</td>\n",
       "      <td>74</td>\n",
       "      <td>1</td>\n",
       "    </tr>\n",
       "    <tr>\n",
       "      <th>3</th>\n",
       "      <td>2.283</td>\n",
       "      <td>62</td>\n",
       "      <td>0</td>\n",
       "    </tr>\n",
       "    <tr>\n",
       "      <th>4</th>\n",
       "      <td>4.533</td>\n",
       "      <td>85</td>\n",
       "      <td>1</td>\n",
       "    </tr>\n",
       "  </tbody>\n",
       "</table>\n",
       "</div>"
      ],
      "text/plain": [
       "   durac_erup  espera  clase\n",
       "0       3.600      79      1\n",
       "1       1.800      54      0\n",
       "2       3.333      74      1\n",
       "3       2.283      62      0\n",
       "4       4.533      85      1"
      ]
     },
     "execution_count": 2,
     "metadata": {},
     "output_type": "execute_result"
    }
   ],
   "source": [
    "import os\n",
    "import pandas as pd\n",
    "\n",
    "FAITH_PATH = '../Data/'\n",
    "df = pd.read_csv(os.path.join(FAITH_PATH, 'faithful1.csv'))\n",
    "\n",
    "# Veamos las primeras líneas\n",
    "df.info()\n",
    "\n",
    "df.head()"
   ]
  },
  {
   "cell_type": "code",
   "execution_count": 3,
   "id": "5e310207",
   "metadata": {
    "colab": {
     "base_uri": "https://localhost:8080/",
     "height": 450
    },
    "executionInfo": {
     "elapsed": 4348,
     "status": "ok",
     "timestamp": 1687796948820,
     "user": {
      "displayName": "Ivan Pedron",
      "userId": "10160945552974466654"
     },
     "user_tz": 180
    },
    "id": "5e310207",
    "outputId": "05b609d6-a0ad-4292-e016-a29b0a07ad5f"
   },
   "outputs": [
    {
     "data": {
      "image/png": "[encoded data removed]",
      "text/plain": [
       "<Figure size 432x288 with 2 Axes>"
      ]
     },
     "metadata": {
      "needs_background": "light"
     },
     "output_type": "display_data"
    }
   ],
   "source": [
    "import matplotlib.pyplot as plt\n",
    "\n",
    "# Plot del dataset\n",
    "# forzamos que sea categórica, sino nos hace el degradé\n",
    "df.loc[:, 'clase'] = pd.Categorical(df.clase)\n",
    "\n",
    "def plot_data():\n",
    "    _ = df.plot.scatter(x='espera', y='durac_erup', c='clase',\n",
    "                        xlabel='Tiempo de espera desde la última erupción [min] ',\n",
    "                        ylabel='Duración de la erupción [min]',\n",
    "                        cmap='jet')\n",
    "    return\n",
    "\n",
    "plot_data()\n"
   ]
  },
  {
   "cell_type": "code",
   "execution_count": 4,
   "id": "kgA76npPnnKW",
   "metadata": {
    "colab": {
     "base_uri": "https://localhost:8080/"
    },
    "executionInfo": {
     "elapsed": 5,
     "status": "ok",
     "timestamp": 1687815128387,
     "user": {
      "displayName": "Rodrigo Fernando Diaz",
      "userId": "14124526113481276144"
     },
     "user_tz": 180
    },
    "id": "kgA76npPnnKW",
    "outputId": "27c37636-e627-4cb7-a3f4-02eb7315d73c"
   },
   "outputs": [
    {
     "data": {
      "text/plain": [
       "clase\n",
       "1    175\n",
       "0     97\n",
       "Name: count, dtype: int64"
      ]
     },
     "execution_count": 4,
     "metadata": {},
     "output_type": "execute_result"
    }
   ],
   "source": [
    "df.clase.value_counts()"
   ]
  },
  {
   "cell_type": "markdown",
   "id": "0ac8a940",
   "metadata": {
    "id": "0ac8a940"
   },
   "source": [
    "Vemos fácilmente que las erupciones de salinidad diferente se separan en este plano.\n",
    "Podemos entonces pensar en un modelo que a partir del tiempo de espera y la duración de la erupción **clasifique** a los eventos de Old Faithful y evitarnos tener que medir la salinidad.\n",
    "\n",
    "¿Cómo lo hacemos?\n",
    "\n",
    "1. Gráficamente.\n",
    "\n",
    "2. Con una receta escrita explícitamente.\n",
    "\n",
    "Buscamos los valores concretos de la pendiente ($m$) y la ordenada al origen ($b$):\n",
    "\n",
    "$$\\text{duración} = m \\times \\text{tiempo de espera} + b$$\n",
    "\n",
    "3. Con un método automático.\n",
    "\n",
    "Para esto, conviene expresar la recta de arriba como\n",
    "\n",
    "$$\\omega_0 + \\omega_1 \\times \\text{tiempo de espera} + \\omega_2 \\times \\text{duración} = 0$$"
   ]
  },
  {
   "cell_type": "markdown",
   "id": "2aa5b48d",
   "metadata": {
    "id": "2aa5b48d"
   },
   "source": [
    "Entonces, la **frontera de decisión** es el lugar del espacio de los datos en el que la **función de decisión**\n",
    "\n",
    "$$\n",
    "y(\\text{datos}, \\boldsymbol{\\omega}) = \\omega_0 + \\omega_1 \\times \\text{tiempo de espera} + \\omega_2 \\times \\text{duración}$$\n",
    "\n",
    "vale 0.\n"
   ]
  },
  {
   "cell_type": "markdown",
   "id": "58b4ca5e",
   "metadata": {
    "id": "58b4ca5e"
   },
   "source": [
    "Así, cada punto tiene un valor de $y$. Hay dos propiedades de la función de decisión que son importantes:\n",
    "\n",
    "1. de un lado de la frontera los valores de la función de decisión $y$, son positivos y del otro son negativos.\n",
    "2. cuanto más lejos está un punto de la frontera de decisión, mayor es el valor absoluto de $y$.\n",
    "\n",
    "Entonces, para armar un algoritmo que clasifica las instancias de un set de datos, podemos aplicar una **función escalón** a la **función de decisión**."
   ]
  },
  {
   "cell_type": "code",
   "execution_count": 5,
   "id": "fba6035b",
   "metadata": {
    "colab": {
     "base_uri": "https://localhost:8080/",
     "height": 473
    },
    "executionInfo": {
     "elapsed": 455,
     "status": "ok",
     "timestamp": 1687812572159,
     "user": {
      "displayName": "Martin Makler",
      "userId": "14686016504460456268"
     },
     "user_tz": 180
    },
    "id": "fba6035b",
    "outputId": "7cb52bcf-00f8-432a-bb34-f0dd2e5945cf"
   },
   "outputs": [
    {
     "data": {
      "image/png": "[encoded data removed]",
      "text/plain": [
       "<Figure size 432x288 with 1 Axes>"
      ]
     },
     "metadata": {
      "needs_background": "light"
     },
     "output_type": "display_data"
    }
   ],
   "source": [
    "import numpy as np\n",
    "import matplotlib.pyplot as plt\n",
    "\n",
    "# Vector para el gráfico\n",
    "x = np.linspace(-1, 1, 100)\n",
    "\n",
    "# Función escalón, también conocida como theta de Heaviside\n",
    "# ver https://es.wikipedia.org/wiki/Funci%C3%B3n_escal%C3%B3n_de_Heaviside\n",
    "y = np.heaviside(x, 0.5)\n",
    "\n",
    "plt.plot(x, y, lw=3, color='r')\n",
    "plt.xlabel('Función de decisión', size=16)\n",
    "plt.ylabel('Clase predicha por el modelo', size=16)\n",
    "plt.show()\n"
   ]
  },
  {
   "cell_type": "markdown",
   "id": "1eac4b1e",
   "metadata": {
    "id": "1eac4b1e"
   },
   "source": [
    "En pocas palabras, el método es:\n",
    "\n",
    "1. Encontrar la mejor frontera de decisión (ver más abajo cómo hacer esto) con el conjunto de entrenamiento.\n",
    "2. Con los parámetros ajustados, calcular el valor de $y$ para un datapoint que se quiera clasificar.\n",
    "3. Si $y > 0$, clasificar como clase 1; de lo contrario, clasificar como clase 0."
   ]
  },
  {
   "cell_type": "markdown",
   "id": "16a284fc",
   "metadata": {
    "id": "16a284fc"
   },
   "source": [
    "## Perceptrón"
   ]
  },
  {
   "cell_type": "markdown",
   "id": "54d06aaf",
   "metadata": {
    "id": "54d06aaf"
   },
   "source": [
    "\n",
    "La pregunta que sigue es: ¿cómo hacemos para encontrar de forma automática los valores de los parámetros $\\omega0$, $\\omega1$ y $\\omega2$ que crean la mejor frontera de decisión?\n",
    "\n",
    "Esta pregunta está asociada a la elección de una **función de error**. ¿Qué creen que pasaría si eligiéramos como función de error al MSE o MAE?"
   ]
  },
  {
   "cell_type": "code",
   "execution_count": 6,
   "id": "680d6b12",
   "metadata": {
    "colab": {
     "base_uri": "https://localhost:8080/",
     "height": 450
    },
    "executionInfo": {
     "elapsed": 1232,
     "status": "ok",
     "timestamp": 1687797279909,
     "user": {
      "displayName": "Ivan Pedron",
      "userId": "10160945552974466654"
     },
     "user_tz": 180
    },
    "id": "680d6b12",
    "outputId": "83cf4304-0ec2-4156-9793-90136613c8e0"
   },
   "outputs": [
    {
     "data": {
      "image/png": "[encoded data removed]",
      "text/plain": [
       "<Figure size 432x288 with 2 Axes>"
      ]
     },
     "metadata": {
      "needs_background": "light"
     },
     "output_type": "display_data"
    }
   ],
   "source": [
    "plot_data()"
   ]
  },
  {
   "cell_type": "markdown",
   "id": "1ae5587b",
   "metadata": {
    "id": "1ae5587b"
   },
   "source": [
    "### La función de error"
   ]
  },
  {
   "cell_type": "markdown",
   "id": "46cfb868",
   "metadata": {
    "id": "46cfb868"
   },
   "source": [
    "Los problemas de clasificación tienen funciones de error propias.\n",
    "Cuando usamos una función escalón como describimos arriba, lo más común es usar la **función de error del perceptrón**, que básicamente es igual a la suma de las distancias a la frontera de decisión de los puntos mal clasificados (conjunto que llamamos $\\mathcal{M}$).\n",
    "\n",
    "$$\n",
    "E_p = \\sum_{i \\in \\mathcal{M}} |y(\\text{datos}_i, \\boldsymbol{\\omega})|\\;\\;.\n",
    "$$\n",
    "\n",
    "El módulo es complicado si uno quiere derivar e igualar a cero para encontrar el mínimo de esta función, pero hay formas astutas de escribir lo mismo, sin usar el módulo."
   ]
  },
  {
   "cell_type": "markdown",
   "id": "410a6325",
   "metadata": {
    "id": "410a6325"
   },
   "source": [
    "### Implementación en `scikit-learn`"
   ]
  },
  {
   "cell_type": "code",
   "execution_count": 7,
   "id": "be798de1",
   "metadata": {
    "id": "be798de1"
   },
   "outputs": [],
   "source": [
    "from sklearn.linear_model import Perceptron\n",
    "\n",
    "# Instancio un perceptrón con los parámetros por defecto\n",
    "perce = Perceptron()"
   ]
  },
  {
   "cell_type": "code",
   "execution_count": 8,
   "id": "10e85e97",
   "metadata": {
    "id": "10e85e97"
   },
   "outputs": [],
   "source": [
    "# Preparo la data en formato que entienda el bicho\n",
    "\n",
    "# Separo el target\n",
    "clase = df.clase.to_numpy()\n",
    "\n",
    "# Tiro el target de la data\n",
    "datos = df.drop(['clase'], axis=1, inplace=False)\n",
    "# Reordeno los datos\n",
    "datos = datos[['espera', 'durac_erup']]\n",
    "\n",
    "# Los normalizo, porque los valores son grandes\n",
    "from sklearn.preprocessing import StandardScaler\n",
    "stsc = StandardScaler()\n",
    "datosn = stsc.fit_transform(datos)\n",
    "\n",
    "# Chequeo\n",
    "# datosn.columns"
   ]
  },
  {
   "cell_type": "code",
   "execution_count": 9,
   "id": "354406fc",
   "metadata": {
    "colab": {
     "base_uri": "https://localhost:8080/",
     "height": 74
    },
    "executionInfo": {
     "elapsed": 319,
     "status": "ok",
     "timestamp": 1687819137732,
     "user": {
      "displayName": "Rodrigo Fernando Diaz",
      "userId": "14124526113481276144"
     },
     "user_tz": 180
    },
    "id": "354406fc",
    "outputId": "b0e81a07-e472-4c38-9484-6e06bdd3f534"
   },
   "outputs": [
    {
     "data": {
      "text/html": [
       "<style>#sk-container-id-1 {color: black;background-color: white;}#sk-container-id-1 pre{padding: 0;}#sk-container-id-1 div.sk-toggleable {background-color: white;}#sk-container-id-1 label.sk-toggleable__label {cursor: pointer;display: block;width: 100%;margin-bottom: 0;padding: 0.3em;box-sizing: border-box;text-align: center;}#sk-container-id-1 label.sk-toggleable__label-arrow:before {content: \"▸\";float: left;margin-right: 0.25em;color: #696969;}#sk-container-id-1 label.sk-toggleable__label-arrow:hover:before {color: black;}#sk-container-id-1 div.sk-estimator:hover label.sk-toggleable__label-arrow:before {color: black;}#sk-container-id-1 div.sk-toggleable__content {max-height: 0;max-width: 0;overflow: hidden;text-align: left;background-color: #f0f8ff;}#sk-container-id-1 div.sk-toggleable__content pre {margin: 0.2em;color: black;border-radius: 0.25em;background-color: #f0f8ff;}#sk-container-id-1 input.sk-toggleable__control:checked~div.sk-toggleable__content {max-height: 200px;max-width: 100%;overflow: auto;}#sk-container-id-1 input.sk-toggleable__control:checked~label.sk-toggleable__label-arrow:before {content: \"▾\";}#sk-container-id-1 div.sk-estimator input.sk-toggleable__control:checked~label.sk-toggleable__label {background-color: #d4ebff;}#sk-container-id-1 div.sk-label input.sk-toggleable__control:checked~label.sk-toggleable__label {background-color: #d4ebff;}#sk-container-id-1 input.sk-hidden--visually {border: 0;clip: rect(1px 1px 1px 1px);clip: rect(1px, 1px, 1px, 1px);height: 1px;margin: -1px;overflow: hidden;padding: 0;position: absolute;width: 1px;}#sk-container-id-1 div.sk-estimator {font-family: monospace;background-color: #f0f8ff;border: 1px dotted black;border-radius: 0.25em;box-sizing: border-box;margin-bottom: 0.5em;}#sk-container-id-1 div.sk-estimator:hover {background-color: #d4ebff;}#sk-container-id-1 div.sk-parallel-item::after {content: \"\";width: 100%;border-bottom: 1px solid gray;flex-grow: 1;}#sk-container-id-1 div.sk-label:hover label.sk-toggleable__label {background-color: #d4ebff;}#sk-container-id-1 div.sk-serial::before {content: \"\";position: absolute;border-left: 1px solid gray;box-sizing: border-box;top: 0;bottom: 0;left: 50%;z-index: 0;}#sk-container-id-1 div.sk-serial {display: flex;flex-direction: column;align-items: center;background-color: white;padding-right: 0.2em;padding-left: 0.2em;position: relative;}#sk-container-id-1 div.sk-item {position: relative;z-index: 1;}#sk-container-id-1 div.sk-parallel {display: flex;align-items: stretch;justify-content: center;background-color: white;position: relative;}#sk-container-id-1 div.sk-item::before, #sk-container-id-1 div.sk-parallel-item::before {content: \"\";position: absolute;border-left: 1px solid gray;box-sizing: border-box;top: 0;bottom: 0;left: 50%;z-index: -1;}#sk-container-id-1 div.sk-parallel-item {display: flex;flex-direction: column;z-index: 1;position: relative;background-color: white;}#sk-container-id-1 div.sk-parallel-item:first-child::after {align-self: flex-end;width: 50%;}#sk-container-id-1 div.sk-parallel-item:last-child::after {align-self: flex-start;width: 50%;}#sk-container-id-1 div.sk-parallel-item:only-child::after {width: 0;}#sk-container-id-1 div.sk-dashed-wrapped {border: 1px dashed gray;margin: 0 0.4em 0.5em 0.4em;box-sizing: border-box;padding-bottom: 0.4em;background-color: white;}#sk-container-id-1 div.sk-label label {font-family: monospace;font-weight: bold;display: inline-block;line-height: 1.2em;}#sk-container-id-1 div.sk-label-container {text-align: center;}#sk-container-id-1 div.sk-container {/* jupyter's `normalize.less` sets `[hidden] { display: none; }` but bootstrap.min.css set `[hidden] { display: none !important; }` so we also need the `!important` here to be able to override the default hidden behavior on the sphinx rendered scikit-learn.org. See: https://github.com/scikit-learn/scikit-learn/issues/21755 */display: inline-block !important;position: relative;}#sk-container-id-1 div.sk-text-repr-fallback {display: none;}</style><div id=\"sk-container-id-1\" class=\"sk-top-container\"><div class=\"sk-text-repr-fallback\"><pre>Perceptron()</pre><b>In a Jupyter environment, please rerun this cell to show the HTML representation or trust the notebook. <br />On GitHub, the HTML representation is unable to render, please try loading this page with nbviewer.org.</b></div><div class=\"sk-container\" hidden><div class=\"sk-item\"><div class=\"sk-estimator sk-toggleable\"><input class=\"sk-toggleable__control sk-hidden--visually\" id=\"sk-estimator-id-1\" type=\"checkbox\" checked><label for=\"sk-estimator-id-1\" class=\"sk-toggleable__label sk-toggleable__label-arrow\">Perceptron</label><div class=\"sk-toggleable__content\"><pre>Perceptron()</pre></div></div></div></div></div>"
      ],
      "text/plain": [
       "Perceptron()"
      ]
     },
     "execution_count": 9,
     "metadata": {},
     "output_type": "execute_result"
    }
   ],
   "source": [
    "# Ajusto el perceptron\n",
    "perce.fit(datosn, clase)"
   ]
  },
  {
   "cell_type": "markdown",
   "id": "48b0a533",
   "metadata": {
    "id": "48b0a533"
   },
   "source": [
    "Al igual que con los otros algoritmos, podemos ver los coeficientes y el \"intercept\""
   ]
  },
  {
   "cell_type": "code",
   "execution_count": 10,
   "id": "8979ef86",
   "metadata": {
    "colab": {
     "base_uri": "https://localhost:8080/"
    },
    "executionInfo": {
     "elapsed": 256,
     "status": "ok",
     "timestamp": 1687819228317,
     "user": {
      "displayName": "Rodrigo Fernando Diaz",
      "userId": "14124526113481276144"
     },
     "user_tz": 180
    },
    "id": "8979ef86",
    "outputId": "7d946233-b2f0-4906-a5c1-4818a85fb15b"
   },
   "outputs": [
    {
     "name": "stdout",
     "output_type": "stream",
     "text": [
      "Omega_0 = 1.00\n",
      "Omega_1 = 1.19\n",
      "Omega_2 = 1.44\n"
     ]
    }
   ],
   "source": [
    "print('Omega_0 = {:.2f}'.format(*perce.intercept_))\n",
    "print('Omega_1 = {:.2f}'.format(perce.coef_[0][0]))\n",
    "print('Omega_2 = {:.2f}'.format(perce.coef_[0][1]))"
   ]
  },
  {
   "cell_type": "markdown",
   "id": "LXgIzZWGXUYW",
   "metadata": {
    "id": "LXgIzZWGXUYW",
    "tags": []
   },
   "source": [
    "### Funciones útiles"
   ]
  },
  {
   "cell_type": "markdown",
   "id": "MLpUBU2TXUYW",
   "metadata": {
    "id": "MLpUBU2TXUYW"
   },
   "source": [
    "Definamos algunas funciones útiles para graficar fronteras de decisión en dos dimensiones y para obtener el vector de los pesos del modelo lineal."
   ]
  },
  {
   "cell_type": "code",
   "execution_count": 11,
   "id": "K8WOsscdXUYX",
   "metadata": {
    "id": "K8WOsscdXUYX"
   },
   "outputs": [],
   "source": [
    "import numpy as np\n",
    "import matplotlib.pyplot as plt\n",
    "\n",
    "def plot_clasi(x, t, ws, labels=[], xp=[-1,1], spines='zero',\n",
    "               equal=True, join_centers=False, margin=None, **kwargs):\n",
    "    \"\"\"\n",
    "    Plot results of linear classification problems.\n",
    "    :param np.array x: Data matrix\n",
    "    :param np.array t: Label vector.\n",
    "    :param list or tuple ws: list with fitted paramter vector of models, one element per model\n",
    "    :param tuple xp: start and end x-coordinates of decision boundaries and\n",
    "                     margins.\n",
    "    :param str or None spines: whether the spines go through zero. If None,\n",
    "                               the default behaviour is used.\n",
    "    :param bool equal: whether to use equal axis aspect (default=True;\n",
    "                       recomended to see the parameter vector normal to\n",
    "                       boundary)\n",
    "    :param bool join_centers: whether to draw lines between classes centres.\n",
    "    :param None or tuple margin: tupler of booleans that define whether\n",
    "                                 to plot margin for each model being plotted.\n",
    "                                 If None, False for all models.\n",
    "    \"\"\"\n",
    "    assert len(labels) == len(ws) or len(labels) == 0\n",
    "\n",
    "    if margin is None:\n",
    "        margin = [False] * len(ws)\n",
    "    else:\n",
    "        margin = np.atleast_1d(margin)\n",
    "    assert len(margin) == len(ws)\n",
    "\n",
    "    if len(labels) == 0:\n",
    "        labels = np.arange(len(ws)).astype('str')\n",
    "\n",
    "    # Agregemos el vector al plot\n",
    "    fig = plt.figure(figsize=(9, 7))\n",
    "    ax = fig.add_subplot(111)\n",
    "\n",
    "    xc1 = x[t == np.unique(t).max()]\n",
    "    xc2 = x[t == np.unique(t).min()]\n",
    "\n",
    "    ax.plot(*xc1.T, 'or', mfc='None', label='C1')\n",
    "    ax.plot(*xc2.T, 'ob', mfc='None', label='C2')\n",
    "\n",
    "    for i, w in enumerate(ws):\n",
    "        # Separa el sesgo del resto de los pesos\n",
    "        thr = -w[0]\n",
    "        w = w[1:]\n",
    "        # Calcula la norma del vector\n",
    "        wnorm = np.sqrt(np.sum(w**2))\n",
    "\n",
    "        # Ploteo vector de pesos\n",
    "        ax.quiver(0, thr/w[1], w[0]/wnorm, w[1]/wnorm,\n",
    "                  color='C{}'.format(i+2), scale=10, label=labels[i],\n",
    "                  zorder=10)\n",
    "\n",
    "        # ploteo plano perpendicular\n",
    "        xp = np.array(xp)\n",
    "        yp = (thr - w[0]*xp)/w[1]\n",
    "\n",
    "        plt.plot(xp, yp, '-', color='C{}'.format(i+2))\n",
    "\n",
    "        # ploteo el margen (para SVC)\n",
    "        if margin[i]:\n",
    "            for marg in [-1, 1]:\n",
    "                ym = yp + marg/w[1]\n",
    "                plt.plot(xp, ym, ':', color='C{}'.format(i+2))\n",
    "\n",
    "    if join_centers:\n",
    "        # Ploteo línea que une centros de los conjuntos\n",
    "        mu1 = xc1.mean(axis=1)\n",
    "        mu2 = xc2.mean(axis=1)\n",
    "        ax.plot([mu1[0], mu2[0]], [mu1[1], mu2[1]], 'o:k', mfc='None', ms=10)\n",
    "\n",
    "    ax.legend(loc=0, fontsize=12)\n",
    "    if equal:\n",
    "        ax.set_aspect('equal')\n",
    "\n",
    "    if spines is not None:\n",
    "        for a in ['left', 'bottom']:\n",
    "            ax.spines[a].set_position('zero')\n",
    "        for a in ['top', 'right']:\n",
    "            ax.spines[a].set_visible(False)\n",
    "\n",
    "    for k in kwargs:\n",
    "        print(k, kwargs[k])\n",
    "        getattr(ax, 'set_'+k)(kwargs[k])\n",
    "\n",
    "    return\n",
    "\n",
    "\n",
    "def makew(fitter, norm=False):\n",
    "    \"\"\"\n",
    "    Prepare parameter vector for an sklearn.liner_model predictor.\n",
    "\n",
    "    :param sklearn.LinearModel fitter: the model used to classify the data\n",
    "    :param bool norm: default: False; whether to normalize the parameter vector\n",
    "    \"\"\"\n",
    "    # # Obtengamos los pesos\n",
    "    w = fitter.coef_.copy()\n",
    "\n",
    "    # # Incluye intercept\n",
    "    if fitter.fit_intercept:\n",
    "        w = np.hstack([fitter.intercept_.reshape(1, 1), w])\n",
    "\n",
    "    # # Normalizon\n",
    "    if norm:\n",
    "        w /= np.linalg.norm(w)\n",
    "    return w.T\n",
    "\n",
    "\n",
    "def plot_fundec(fitter, x, t):\n",
    "    from matplotlib import colors\n",
    "\n",
    "    plt.figure(figsize=(9, 7))\n",
    "\n",
    "    xx, yy = np.meshgrid(np.linspace(x[:, 0].min()-1, x[:, 0].max()+1, 200),\n",
    "                            np.linspace(x[:, 1].min()-1, x[:, 1].max()+1, 200))\n",
    "\n",
    "    # evaluate decision function\n",
    "    Z = fitter.decision_function(np.c_[xx.ravel(), yy.ravel()])\n",
    "    Z = Z.reshape(xx.shape)\n",
    "\n",
    "    # veamos la función de decisión y la frontera de decisión\n",
    "    mynorm = colors.TwoSlopeNorm(vmin=Z.min(), vmax=Z.max(), vcenter=0.0)\n",
    "    pme = plt.pcolormesh(xx, yy, Z, cmap=plt.cm.RdBu_r, norm=mynorm, shading='auto')\n",
    "    plt.colorbar(label='Función de decisión')\n",
    "    plt.contour(xx, yy, -Z, 0, colors='0.5', zorder=1)\n",
    "    # plt.contour(xx, yy, -Z, [-1, 1], colors='0.25', linestyles='dashed', zorder=1)\n",
    "\n",
    "    xc1 = x[t == np.unique(t.flatten()).max()]\n",
    "    xc2 = x[t == np.unique(t.flatten()).min()]\n",
    "\n",
    "    plt.plot(*xc1.T, 'or', mfc='None', label='C1')\n",
    "    plt.plot(*xc2.T, 'ob', mfc='None', label='C2')\n",
    "\n",
    "    plt.xticks(())\n",
    "    plt.yticks(())\n",
    "    plt.axis('tight')\n",
    "\n",
    "    return pme\n"
   ]
  },
  {
   "cell_type": "code",
   "execution_count": 12,
   "id": "fce92945",
   "metadata": {
    "colab": {
     "base_uri": "https://localhost:8080/",
     "height": 655
    },
    "executionInfo": {
     "elapsed": 814,
     "status": "ok",
     "timestamp": 1687819333354,
     "user": {
      "displayName": "Rodrigo Fernando Diaz",
      "userId": "14124526113481276144"
     },
     "user_tz": 180
    },
    "id": "fce92945",
    "outputId": "8cf37afb-59f5-42a8-a3f9-c8db690b062c"
   },
   "outputs": [
    {
     "name": "stdout",
     "output_type": "stream",
     "text": [
      "xlabel Tiempo de espera [normalizado]\n",
      "ylabel Duración de la erupción [normalizado]\n"
     ]
    },
    {
     "data": {
      "image/png": "[encoded data removed]",
      "text/plain": [
       "<Figure size 648x504 with 1 Axes>"
      ]
     },
     "metadata": {
      "needs_background": "light"
     },
     "output_type": "display_data"
    }
   ],
   "source": [
    "# Creo el vector de pesos\n",
    "w_perce = makew(perce)\n",
    "\n",
    "plot_clasi(datosn, t=clase, ws=[w_perce,], xp=[-2, 2], labels=['Perceptron', ],\n",
    "           spines=None,\n",
    "           xlabel='Tiempo de espera [normalizado]',\n",
    "           ylabel='Duración de la erupción [normalizado]')"
   ]
  },
  {
   "cell_type": "code",
   "execution_count": 13,
   "id": "201f7068",
   "metadata": {
    "colab": {
     "base_uri": "https://localhost:8080/",
     "height": 594
    },
    "executionInfo": {
     "elapsed": 1045,
     "status": "ok",
     "timestamp": 1687819370030,
     "user": {
      "displayName": "Rodrigo Fernando Diaz",
      "userId": "14124526113481276144"
     },
     "user_tz": 180
    },
    "id": "201f7068",
    "outputId": "e252bbb4-73ea-4397-918b-47fd27397940"
   },
   "outputs": [
    {
     "data": {
      "text/plain": [
       "<matplotlib.collections.QuadMesh at 0x7f2ba1bfa070>"
      ]
     },
     "execution_count": 13,
     "metadata": {},
     "output_type": "execute_result"
    },
    {
     "data": {
      "image/png": "[encoded data removed]",
      "text/plain": [
       "<Figure size 648x504 with 2 Axes>"
      ]
     },
     "metadata": {
      "needs_background": "light"
     },
     "output_type": "display_data"
    }
   ],
   "source": [
    "plot_fundec(perce, datosn, clase)"
   ]
  },
  {
   "cell_type": "markdown",
   "id": "2a29b7e5",
   "metadata": {
    "id": "2a29b7e5"
   },
   "source": [
    "Al perceptron también se le puede pedir que prediga a qué clase pertenece cada instancia"
   ]
  },
  {
   "cell_type": "code",
   "execution_count": 14,
   "id": "d6c0aa52",
   "metadata": {
    "id": "d6c0aa52"
   },
   "outputs": [],
   "source": [
    "# predicciones del perceptron\n",
    "preds = perce.predict(datosn)"
   ]
  },
  {
   "cell_type": "code",
   "execution_count": 15,
   "id": "SBjJLo1P4GhI",
   "metadata": {
    "colab": {
     "base_uri": "https://localhost:8080/"
    },
    "executionInfo": {
     "elapsed": 337,
     "status": "ok",
     "timestamp": 1687819469091,
     "user": {
      "displayName": "Rodrigo Fernando Diaz",
      "userId": "14124526113481276144"
     },
     "user_tz": 180
    },
    "id": "SBjJLo1P4GhI",
    "outputId": "8485faa7-6eee-4b23-a60d-f523eb4cb3b3"
   },
   "outputs": [
    {
     "data": {
      "text/plain": [
       "True"
      ]
     },
     "execution_count": 15,
     "metadata": {},
     "output_type": "execute_result"
    }
   ],
   "source": [
    "preds2 = np.where(perce.decision_function(datosn) >= 0, 1, 0)\n",
    "np.allclose(preds, preds2)"
   ]
  },
  {
   "cell_type": "markdown",
   "id": "62811be5",
   "metadata": {
    "id": "62811be5"
   },
   "source": [
    "### Dependencia con las condiciones iniciales"
   ]
  },
  {
   "cell_type": "markdown",
   "id": "b4e8b3cd",
   "metadata": {
    "id": "b4e8b3cd"
   },
   "source": [
    "Una característica del algoritmo planteado más arriba es que podemos converger a distintas soluciones, según el punto inicial del que partamos.\n",
    "\n",
    "El punto inicial puede elegirse de forma aleatoria o podemos fijarlo usando los argumentos `coef_init` e `intercept_init` del método `fit`:"
   ]
  },
  {
   "cell_type": "code",
   "execution_count": 16,
   "id": "59d44b00",
   "metadata": {
    "id": "59d44b00"
   },
   "outputs": [],
   "source": [
    "# Definimos un punto inicial\n",
    "w0 = np.array([5.0, 5.0]).reshape(1, 2)\n",
    "intercept = np.array([-2,])\n",
    "\n",
    "# Ajustamos arrancando de esa posición.\n",
    "perce.fit(datosn, clase, coef_init=w0, intercept_init=intercept)\n",
    "w_perce2 = makew(perce)"
   ]
  },
  {
   "cell_type": "markdown",
   "id": "223a1981",
   "metadata": {
    "id": "223a1981"
   },
   "source": [
    "Y podemos graficar ambas soluciones:"
   ]
  },
  {
   "cell_type": "code",
   "execution_count": 17,
   "id": "31dd490c",
   "metadata": {
    "colab": {
     "base_uri": "https://localhost:8080/",
     "height": 576
    },
    "executionInfo": {
     "elapsed": 701,
     "status": "ok",
     "timestamp": 1687819730610,
     "user": {
      "displayName": "Rodrigo Fernando Diaz",
      "userId": "14124526113481276144"
     },
     "user_tz": 180
    },
    "id": "31dd490c",
    "outputId": "82c9f754-fc10-4498-faa3-3514fff81b0c"
   },
   "outputs": [
    {
     "data": {
      "image/png": "[encoded data removed]",
      "text/plain": [
       "<Figure size 648x504 with 1 Axes>"
      ]
     },
     "metadata": {
      "needs_background": "light"
     },
     "output_type": "display_data"
    }
   ],
   "source": [
    "plot_clasi(datosn, clase, [w_perce, w_perce2], ['Perceptron', 'Perceptron2'], xp=[-2, 2])"
   ]
  },
  {
   "cell_type": "markdown",
   "id": "f352c9c0",
   "metadata": {
    "id": "f352c9c0"
   },
   "source": [
    "O podemos ver soluciones múltiples"
   ]
  },
  {
   "cell_type": "code",
   "execution_count": 18,
   "id": "c42edb6d",
   "metadata": {
    "colab": {
     "base_uri": "https://localhost:8080/",
     "height": 576
    },
    "executionInfo": {
     "elapsed": 967,
     "status": "ok",
     "timestamp": 1687819807822,
     "user": {
      "displayName": "Rodrigo Fernando Diaz",
      "userId": "14124526113481276144"
     },
     "user_tz": 180
    },
    "id": "c42edb6d",
    "outputId": "c90b1f9f-6cc4-4cc8-8bbc-ca0583bd99c5"
   },
   "outputs": [
    {
     "data": {
      "image/png": "[encoded data removed]",
      "text/plain": [
       "<Figure size 648x504 with 1 Axes>"
      ]
     },
     "metadata": {
      "needs_background": "light"
     },
     "output_type": "display_data"
    }
   ],
   "source": [
    "w0s = np.random.rand(10, 2) * 5.0\n",
    "intercepts = np.random.rand(10) * 5.0\n",
    "\n",
    "wlist = []\n",
    "thlist = []\n",
    "for i in range(len(w0s)):\n",
    "    perce.fit(datosn, clase, coef_init=w0s[i], intercept_init=intercepts[i])\n",
    "    w_p = makew(perce)\n",
    "    wlist.append(w_p)\n",
    "\n",
    "plot_clasi(datosn, clase, wlist, xp=[-2, 2])"
   ]
  },
  {
   "cell_type": "code",
   "execution_count": 19,
   "id": "i2utKPfK6fPE",
   "metadata": {
    "id": "i2utKPfK6fPE"
   },
   "outputs": [],
   "source": [
    "# ACÁ VA UN EJERCICIO CON MAKEMOONS USANDO POLINOMIAL FEATURES\n",
    "\n",
    "from sklearn.pipeline import Pipeline\n",
    "from sklearn.preprocessing import PolynomialFeatures\n",
    "\n",
    "perce_cuad = Pipeline([\n",
    "    ('poly', PolynomialFeatures(degree=2)),\n",
    "    ('perce', Perceptron(fit_intercept=False))\n",
    "])\n"
   ]
  },
  {
   "cell_type": "code",
   "execution_count": 20,
   "id": "cgPMUx2361oL",
   "metadata": {
    "colab": {
     "base_uri": "https://localhost:8080/",
     "height": 320
    },
    "executionInfo": {
     "elapsed": 5,
     "status": "error",
     "timestamp": 1687820589111,
     "user": {
      "displayName": "Rodrigo Fernando Diaz",
      "userId": "14124526113481276144"
     },
     "user_tz": 180
    },
    "id": "cgPMUx2361oL",
    "outputId": "efe84845-a529-45f3-c73f-6e2758ef14fa"
   },
   "outputs": [
    {
     "data": {
      "text/html": [
       "<style>#sk-container-id-2 {color: black;background-color: white;}#sk-container-id-2 pre{padding: 0;}#sk-container-id-2 div.sk-toggleable {background-color: white;}#sk-container-id-2 label.sk-toggleable__label {cursor: pointer;display: block;width: 100%;margin-bottom: 0;padding: 0.3em;box-sizing: border-box;text-align: center;}#sk-container-id-2 label.sk-toggleable__label-arrow:before {content: \"▸\";float: left;margin-right: 0.25em;color: #696969;}#sk-container-id-2 label.sk-toggleable__label-arrow:hover:before {color: black;}#sk-container-id-2 div.sk-estimator:hover label.sk-toggleable__label-arrow:before {color: black;}#sk-container-id-2 div.sk-toggleable__content {max-height: 0;max-width: 0;overflow: hidden;text-align: left;background-color: #f0f8ff;}#sk-container-id-2 div.sk-toggleable__content pre {margin: 0.2em;color: black;border-radius: 0.25em;background-color: #f0f8ff;}#sk-container-id-2 input.sk-toggleable__control:checked~div.sk-toggleable__content {max-height: 200px;max-width: 100%;overflow: auto;}#sk-container-id-2 input.sk-toggleable__control:checked~label.sk-toggleable__label-arrow:before {content: \"▾\";}#sk-container-id-2 div.sk-estimator input.sk-toggleable__control:checked~label.sk-toggleable__label {background-color: #d4ebff;}#sk-container-id-2 div.sk-label input.sk-toggleable__control:checked~label.sk-toggleable__label {background-color: #d4ebff;}#sk-container-id-2 input.sk-hidden--visually {border: 0;clip: rect(1px 1px 1px 1px);clip: rect(1px, 1px, 1px, 1px);height: 1px;margin: -1px;overflow: hidden;padding: 0;position: absolute;width: 1px;}#sk-container-id-2 div.sk-estimator {font-family: monospace;background-color: #f0f8ff;border: 1px dotted black;border-radius: 0.25em;box-sizing: border-box;margin-bottom: 0.5em;}#sk-container-id-2 div.sk-estimator:hover {background-color: #d4ebff;}#sk-container-id-2 div.sk-parallel-item::after {content: \"\";width: 100%;border-bottom: 1px solid gray;flex-grow: 1;}#sk-container-id-2 div.sk-label:hover label.sk-toggleable__label {background-color: #d4ebff;}#sk-container-id-2 div.sk-serial::before {content: \"\";position: absolute;border-left: 1px solid gray;box-sizing: border-box;top: 0;bottom: 0;left: 50%;z-index: 0;}#sk-container-id-2 div.sk-serial {display: flex;flex-direction: column;align-items: center;background-color: white;padding-right: 0.2em;padding-left: 0.2em;position: relative;}#sk-container-id-2 div.sk-item {position: relative;z-index: 1;}#sk-container-id-2 div.sk-parallel {display: flex;align-items: stretch;justify-content: center;background-color: white;position: relative;}#sk-container-id-2 div.sk-item::before, #sk-container-id-2 div.sk-parallel-item::before {content: \"\";position: absolute;border-left: 1px solid gray;box-sizing: border-box;top: 0;bottom: 0;left: 50%;z-index: -1;}#sk-container-id-2 div.sk-parallel-item {display: flex;flex-direction: column;z-index: 1;position: relative;background-color: white;}#sk-container-id-2 div.sk-parallel-item:first-child::after {align-self: flex-end;width: 50%;}#sk-container-id-2 div.sk-parallel-item:last-child::after {align-self: flex-start;width: 50%;}#sk-container-id-2 div.sk-parallel-item:only-child::after {width: 0;}#sk-container-id-2 div.sk-dashed-wrapped {border: 1px dashed gray;margin: 0 0.4em 0.5em 0.4em;box-sizing: border-box;padding-bottom: 0.4em;background-color: white;}#sk-container-id-2 div.sk-label label {font-family: monospace;font-weight: bold;display: inline-block;line-height: 1.2em;}#sk-container-id-2 div.sk-label-container {text-align: center;}#sk-container-id-2 div.sk-container {/* jupyter's `normalize.less` sets `[hidden] { display: none; }` but bootstrap.min.css set `[hidden] { display: none !important; }` so we also need the `!important` here to be able to override the default hidden behavior on the sphinx rendered scikit-learn.org. See: https://github.com/scikit-learn/scikit-learn/issues/21755 */display: inline-block !important;position: relative;}#sk-container-id-2 div.sk-text-repr-fallback {display: none;}</style><div id=\"sk-container-id-2\" class=\"sk-top-container\"><div class=\"sk-text-repr-fallback\"><pre>Pipeline(steps=[(&#x27;poly&#x27;, PolynomialFeatures()),\n",
       "                (&#x27;perce&#x27;, Perceptron(fit_intercept=False))])</pre><b>In a Jupyter environment, please rerun this cell to show the HTML representation or trust the notebook. <br />On GitHub, the HTML representation is unable to render, please try loading this page with nbviewer.org.</b></div><div class=\"sk-container\" hidden><div class=\"sk-item sk-dashed-wrapped\"><div class=\"sk-label-container\"><div class=\"sk-label sk-toggleable\"><input class=\"sk-toggleable__control sk-hidden--visually\" id=\"sk-estimator-id-2\" type=\"checkbox\" ><label for=\"sk-estimator-id-2\" class=\"sk-toggleable__label sk-toggleable__label-arrow\">Pipeline</label><div class=\"sk-toggleable__content\"><pre>Pipeline(steps=[(&#x27;poly&#x27;, PolynomialFeatures()),\n",
       "                (&#x27;perce&#x27;, Perceptron(fit_intercept=False))])</pre></div></div></div><div class=\"sk-serial\"><div class=\"sk-item\"><div class=\"sk-estimator sk-toggleable\"><input class=\"sk-toggleable__control sk-hidden--visually\" id=\"sk-estimator-id-3\" type=\"checkbox\" ><label for=\"sk-estimator-id-3\" class=\"sk-toggleable__label sk-toggleable__label-arrow\">PolynomialFeatures</label><div class=\"sk-toggleable__content\"><pre>PolynomialFeatures()</pre></div></div></div><div class=\"sk-item\"><div class=\"sk-estimator sk-toggleable\"><input class=\"sk-toggleable__control sk-hidden--visually\" id=\"sk-estimator-id-4\" type=\"checkbox\" ><label for=\"sk-estimator-id-4\" class=\"sk-toggleable__label sk-toggleable__label-arrow\">Perceptron</label><div class=\"sk-toggleable__content\"><pre>Perceptron(fit_intercept=False)</pre></div></div></div></div></div></div></div>"
      ],
      "text/plain": [
       "Pipeline(steps=[('poly', PolynomialFeatures()),\n",
       "                ('perce', Perceptron(fit_intercept=False))])"
      ]
     },
     "execution_count": 20,
     "metadata": {},
     "output_type": "execute_result"
    }
   ],
   "source": [
    "perce_cuad.fit(datosn, clase)"
   ]
  },
  {
   "cell_type": "markdown",
   "id": "d34bf121",
   "metadata": {
    "id": "d34bf121"
   },
   "source": [
    "## Métricas"
   ]
  },
  {
   "cell_type": "markdown",
   "id": "bc38ec6d",
   "metadata": {
    "id": "bc38ec6d"
   },
   "source": [
    "Para decidir cuán bien funciona nuestro clasificador, necesitamos definir alguna métrica. Las siguientes son opciones comunes:\n",
    "\n",
    "* Exactitud (accuracy): ¿Qué fracción de los puntos están clasificados correctamente?\n",
    "* Precisión: ¿Cuántos puntos de los que predecimos que pertenecen a la Clase 1, realmente son de esa clase? Por supuesto, podemos también definir la precisión para la Clase 2 de manera análoga.\n",
    "* Exhaustividad (recall): ¿Qué fracción de los puntos de la Clase 1 son clasificados como Clase 1?\n",
    "\n",
    "Dependiendo de qué nos interese más, y cuán balanceado esté nuestro dataset (balance entre una clase y otra) eligiremos una u otra métrica. En el caso en el que estamos interesados en la precisión **Y** la exhaustividad, podemos considerar la media armónica de ambas:\n",
    "\n",
    "* score F1: media armónica de la precisión y la exhaustividad.\n",
    "\n",
    "Esta forma de calcular la media le da más peso al menor valor, de manera que un score F1 alto significa que tanto la precisión como la exhaustividad son altas.\n",
    "\n",
    "Todas estas métricas se pueden calcular a partir de la *matriz de confusión*:\n",
    "\n",
    "|  | Predicción C2 (-) | Predicción C1 (+) |\n",
    "| --- | --- | --- |\n",
    "| **Etiqueta C2 (-)** | Verdaderos Negativos (VN)  | Falsos Positivos (FP) |\n",
    "| **Etiqueta C1 (+)** | Falsos Negativos (FN) | Verdaderos Positvos (VP) |\n",
    "\n",
    "$$\\text{Exactitud} = \\frac{VP + VN}{VP+VN+FP+FN}$$\n",
    "$$\\text{Precisión} = \\frac{VP}{VP+FP}$$\n",
    "$$\\text{Exhaustividad} = \\frac{VP}{VP+FN}$$"
   ]
  },
  {
   "cell_type": "markdown",
   "id": "fbd93509",
   "metadata": {
    "id": "fbd93509"
   },
   "source": [
    "Por supuesto, todo esto está implementado en `sklearn`, en el paquete `metrics`."
   ]
  },
  {
   "cell_type": "code",
   "execution_count": null,
   "id": "4ca18c3e",
   "metadata": {
    "colab": {
     "base_uri": "https://localhost:8080/"
    },
    "executionInfo": {
     "elapsed": 277,
     "status": "ok",
     "timestamp": 1687820303226,
     "user": {
      "displayName": "Rodrigo Fernando Diaz",
      "userId": "14124526113481276144"
     },
     "user_tz": 180
    },
    "id": "4ca18c3e",
    "outputId": "139a1b4c-130c-4f35-c482-456746eda806"
   },
   "outputs": [],
   "source": [
    "from sklearn.metrics import confusion_matrix, accuracy_score, precision_score, recall_score\n",
    "\n",
    "print(f\"Exactitud: {round(accuracy_score(clase, preds), 2)}\")\n",
    "print(f\"Precisión: {round(precision_score(clase, preds), 2)}\")\n",
    "print(f\"Exhaustividad: {round(recall_score(clase, preds), 2)}\")\n",
    "print(\"Matriz de confusión:\")\n",
    "print(confusion_matrix(clase, clase))"
   ]
  },
  {
   "cell_type": "markdown",
   "id": "ef7302a2",
   "metadata": {
    "id": "ef7302a2"
   },
   "source": [
    "Como es de esperar viendo los gráficos de arriba, en estos casos el funcionamiento del algoritmo es perfecto."
   ]
  },
  {
   "cell_type": "markdown",
   "id": "cn2_hmy6XUYe",
   "metadata": {
    "id": "cn2_hmy6XUYe"
   },
   "source": [
    "Un algoritmo de optimización frecuentemente utilizado es el *descenso de gradiente estocástico* (*stochastic gradient descent* o SGD). Se utiliza para encontrar los valores de las componentes del vector $\\omega$ que minimiza una determinada función de pérdida $E(\\omega)$.\n",
    "\n",
    "En general, el algoritmo de descenso de gradiente consiste en modificar los pesos $\\omega$ en la dirección que reduce más rápidamente $E(\\omega)$. Localmente, esta dirección viene dada por $\\nabla_\\omega E(\\omega)$, por lo que el proceso iterativo es\n",
    "\n",
    "$$\n",
    "\\omega \\rightarrow \\omega - \\eta \\nabla_\\omega E(\\omega),\n",
    "$$\n",
    "\n",
    "donde $\\eta$ establece la escala de *cuánto* debemos movernos en esa dirección, y se llama la _tasa de aprendizaje_. El valor de esta tasa de aprendizaje es un hiperparámetro que debe ser optimizado (normalmente menos de 1). Para valores pequeños, se necesitarán más iteraciones para converger, pero para valores grandes el proceso iterativo podría oscilar alrededor de un mínimo o incluso empezar a diverger.\n",
    "\n",
    "El primer valor de $\\omega$ se elige generalmente al azar, y el algoritmo procede hasta la convergencia, que se define fijando un umbral de tolerancia, o hasta que se alcanza un número máximo de iteraciones (en cuyo caso decimos que el algoritmo no ha convergido).\n",
    "\n",
    "En el descenso de gradiente estocástico, necesitamos evaluar el gradiente de la función de pérdida en la posición del vector de pesos $\\omega$ _en cada paso_ (ya que los pesos se están modificando), y la función de pérdida suele ser una media de todo un conjunto de datos. Por esta razón, necesitamos una función de pérdida que podamos diferenciar analíticamente, ya que, de lo contrario, el cálculo numérico del gradiente sería demasiado caro.\n",
    "\n",
    "Para conjuntos de datos grandes, sólo podemos iterar una vez que hemos calculado la función de pérdida en todo el conjunto de datos ($E(\\omega) = \\frac{1}{N} \\sum_i e(x^{(i)}, y^{(i)}; \\omega)$), lo que puede llevar algún tiempo.\n",
    "\n",
    "Para acelerar la convergencia, se puede estimar la función de pérdida en un solo punto de datos, y mover los pesos en la dirección de $-\\nabla_\\omega e(x^{(i)}, y^{(i)}; \\omega)$ para cada punto del conjunto de datos. De esta manera, en el coste computacional de calcular este gradiente en todo el conjunto de datos, nuestros pesos se han iterado $N$ veces. La contrapartida es que, en cada punto de datos, uno está sesgado hacia la aleatoriedad de ese punto específico, y por lo tanto hace que la convergencia sea estocástica (similar a un paseo aleatorio). Este método se conoce como _Descenso Gradiente Estocástico_ (SGD). La aleatoriedad de la convergencia puede ayudar al algoritmo a escapar de los mínimos locales en problemas no convexos.\n",
    "\n",
    "En la práctica, se utiliza un algoritmo intermedio llamado _Descenso Gradiente Estocástico por Lotes_, que utiliza subconjuntos (_lotes_) de todo el conjunto de datos para estimar la función de error, manteniendo parte de la estocasticidad de SGD pero haciendo uso de la paralelización para acelerar el cálculo (calculando cada punto del lote en paralelo, ya que estos cálculos son independientes)."
   ]
  },
  {
   "cell_type": "markdown",
   "id": "pOrPPpGXXUYk",
   "metadata": {
    "id": "pOrPPpGXXUYk"
   },
   "source": [
    "## Linealmente separable. ¿Qué significa?"
   ]
  },
  {
   "cell_type": "markdown",
   "id": "q_OWJvwjXUYk",
   "metadata": {
    "id": "q_OWJvwjXUYk"
   },
   "source": [
    "Empecemos con un dataset bastante particular. Lo generamos con la celda a continuación y lo graficamos después."
   ]
  },
  {
   "cell_type": "code",
   "execution_count": null,
   "id": "5pCxc46aXUYk",
   "metadata": {
    "id": "5pCxc46aXUYk"
   },
   "outputs": [],
   "source": [
    "def make_circle_data():\n",
    "\n",
    "    np.random.seed(2022)\n",
    "\n",
    "    x = np.random.multivariate_normal(mean=[0,0], cov=[[1, 0],[0, 1]], size=1000).T\n",
    "    r = (x[0]**2 + x[1]**2)\n",
    "\n",
    "    xc1 = x[:, r < 0.9]\n",
    "    xc2 = x[:, r > 1.1]\n",
    "\n",
    "    # Uso coordenadas polares\n",
    "    rc1 = np.sqrt(xc1[0]**2 + xc1[1]**2)\n",
    "    thetac1 = np.arctan2(xc1[1], xc1[0])\n",
    "    rc2 = np.sqrt(xc2[0]**2 + xc2[1]**2)\n",
    "    thetac2 = np.arctan2(xc2[1], xc2[0])\n",
    "\n",
    "    phi1 = np.vstack([rc1[np.newaxis, :], thetac1[np.newaxis, :]])\n",
    "    phi2 = np.vstack([rc2[np.newaxis, :], thetac2[np.newaxis, :]])\n",
    "\n",
    "#     phi1 = rc1[np.newaxis, :]\n",
    "#     phi2 = rc2[np.newaxis, :]\n",
    "\n",
    "    # Creamos la matrix de diseño completa y los labels\n",
    "    t1 = np.ones_like(rc1)\n",
    "    t2 = np.zeros_like(rc2)\n",
    "\n",
    "    return xc1, xc2, phi1, phi2, t1, t2\n",
    "\n",
    "xc1, xc2, phi1, phi2, t1, t2 = make_circle_data()"
   ]
  },
  {
   "cell_type": "code",
   "execution_count": null,
   "id": "rdDQ540MXUYl",
   "metadata": {
    "colab": {
     "base_uri": "https://localhost:8080/",
     "height": 716
    },
    "executionInfo": {
     "elapsed": 467,
     "status": "ok",
     "timestamp": 1687820379648,
     "user": {
      "displayName": "Rodrigo Fernando Diaz",
      "userId": "14124526113481276144"
     },
     "user_tz": 180
    },
    "id": "rdDQ540MXUYl",
    "outputId": "9f896870-9be5-47b8-8d47-7b3162560f65"
   },
   "outputs": [],
   "source": [
    "plt.figure(figsize=(8, 8))\n",
    "plt.plot(*xc1, '.b')\n",
    "plt.plot(*xc2, '.r')\n",
    "plt.xlabel('$X_1$')\n",
    "plt.ylabel('$X_2$')\n",
    "plt.show()"
   ]
  },
  {
   "cell_type": "markdown",
   "id": "4jNceG49XUYl",
   "metadata": {
    "id": "4jNceG49XUYl"
   },
   "source": [
    "**Preguntas**\n",
    "* ¿Podemos trazar una recta que separe ambas clases?\n",
    "* ¿Podemos trazar una **curva** que lo haga?\n",
    "* ¿Dirían que este conjunto es _linealmente separable_?"
   ]
  },
  {
   "cell_type": "markdown",
   "id": "vgt4Z8tAXUYl",
   "metadata": {
    "id": "vgt4Z8tAXUYl"
   },
   "source": [
    "El mismo conjunto puede representarse usando otras coordenadas (*features*), las coordenadas polares, donde cada punto está identificado por su distancia al origen (_radio_) y por su ángulo con respecto a la dirección positiva del eje $x$ (_ángulo polar_)\n",
    "\n",
    "Veamos a este dataset en esas coordenadas."
   ]
  },
  {
   "cell_type": "code",
   "execution_count": null,
   "id": "wA8Cl-QDXUYl",
   "metadata": {
    "colab": {
     "base_uri": "https://localhost:8080/",
     "height": 714
    },
    "executionInfo": {
     "elapsed": 455,
     "status": "ok",
     "timestamp": 1687820402559,
     "user": {
      "displayName": "Rodrigo Fernando Diaz",
      "userId": "14124526113481276144"
     },
     "user_tz": 180
    },
    "id": "wA8Cl-QDXUYl",
    "outputId": "4c338454-e3fe-4a80-e472-7f12631c296c"
   },
   "outputs": [],
   "source": [
    "plt.figure(figsize=(8, 8))\n",
    "plt.plot(phi1[0], phi1[1], '.b')\n",
    "plt.plot(phi2[0], phi2[1], '.r')\n",
    "plt.xlabel('r')\n",
    "plt.ylabel(r'$\\theta$')\n",
    "plt.show()"
   ]
  },
  {
   "cell_type": "markdown",
   "id": "bIWsW3SSXUYl",
   "metadata": {
    "id": "bIWsW3SSXUYl"
   },
   "source": [
    "* ¿Cambiarían las respuestas a las preguntas de arriba? ¡Este es _el mismo_ conjunto de datos!"
   ]
  },
  {
   "cell_type": "markdown",
   "id": "yM-RWQMfXUYl",
   "metadata": {
    "id": "yM-RWQMfXUYl"
   },
   "source": [
    "Ahora veamos cómo le va al perceptron con este dataset."
   ]
  },
  {
   "cell_type": "code",
   "execution_count": null,
   "id": "T0DrscM3XUYl",
   "metadata": {
    "colab": {
     "base_uri": "https://localhost:8080/",
     "height": 599
    },
    "executionInfo": {
     "elapsed": 741,
     "status": "ok",
     "timestamp": 1687820442883,
     "user": {
      "displayName": "Rodrigo Fernando Diaz",
      "userId": "14124526113481276144"
     },
     "user_tz": 180
    },
    "id": "T0DrscM3XUYl",
    "outputId": "bb624977-0a10-4ff8-f9dd-a304f7085789"
   },
   "outputs": [],
   "source": [
    "t = np.concatenate([t1, t2])\n",
    "x = np.vstack([phi1.T, phi2.T])\n",
    "\n",
    "perce = Perceptron(max_iter=1000, tol=1e-10, random_state=2020202)\n",
    "\n",
    "# Ajusto\n",
    "perce.fit(x, t)\n",
    "w = makew(perce)\n",
    "plot_clasi(x, t, [w,], xp=[0.9, 1.1],  spines=None, equal=False)"
   ]
  },
  {
   "cell_type": "markdown",
   "id": "nNCl6xf6XUYm",
   "metadata": {
    "id": "nNCl6xf6XUYm"
   },
   "source": [
    "Y volvemos al espacio original"
   ]
  },
  {
   "cell_type": "code",
   "execution_count": null,
   "id": "KVsWVq-NXUYn",
   "metadata": {
    "colab": {
     "base_uri": "https://localhost:8080/",
     "height": 714
    },
    "executionInfo": {
     "elapsed": 816,
     "status": "ok",
     "timestamp": 1687820451877,
     "user": {
      "displayName": "Rodrigo Fernando Diaz",
      "userId": "14124526113481276144"
     },
     "user_tz": 180
    },
    "id": "KVsWVq-NXUYn",
    "outputId": "e9059817-225e-4ddd-e3c2-c99a533a83ed"
   },
   "outputs": [],
   "source": [
    "fig = plt.figure(figsize=(8, 8))\n",
    "plt.plot(*xc1, '.r')\n",
    "plt.plot(*xc2, '.b')\n",
    "plt.gca().set_aspect('equal')\n",
    "plt.xlabel('X1')\n",
    "plt.ylabel('X2')\n",
    "\n",
    "# Points in the plane\n",
    "yp = x[:, 1]\n",
    "xp = (w[0] - w[2]*yp)/w[1]\n",
    "\n",
    "# Convert back to original input space, keeping the sign\n",
    "signx1 = np.where((yp > -np.pi/2) * (yp <= np.pi/2), 1, -1)\n",
    "signx2 = np.where((yp > 0) * (yp <= np.pi), 1, -1)\n",
    "\n",
    "x1p = signx1 * np.sqrt(xp**2/(1 + np.tan(yp)**2))\n",
    "x2p = signx2 * np.sqrt(xp**2 - x1p**2)\n",
    "\n",
    "# Plot\n",
    "i = np.argsort(yp)\n",
    "plt.plot(x1p[i], x2p[i], '-', lw=4, label='Perceptron')\n",
    "\n",
    "plt.legend()\n",
    "plt.show()"
   ]
  },
  {
   "cell_type": "markdown",
   "id": "ad007e29",
   "metadata": {
    "id": "ad007e29"
   },
   "source": [
    "**Conclusión**. Si logramos encontrar el cambio de coordenadas adecuado, algunos problemas pueden *volverse* linealmente separables."
   ]
  },
  {
   "cell_type": "markdown",
   "id": "jNADZghWXUYn",
   "metadata": {
    "id": "jNADZghWXUYn"
   },
   "source": [
    "# Ejercicio: MNIST"
   ]
  },
  {
   "cell_type": "markdown",
   "id": "9wdfHCnPXUYn",
   "metadata": {
    "id": "9wdfHCnPXUYn"
   },
   "source": [
    "Para mostrar que no solo se pueden clasificar puntos en dos dimensiones, en esta sección, van a usar el perceptrón para clasificar los datos de MNIST, este clásico dataset contiene unas 70000 imágenes de 28x28 píxeles de dígitos escritos a mano en escala de grises, cada uno etiquetado con su valor correspondiente (de 0 a 9). \n",
    "\n",
    "Como el perceptrón solo funciona para clasificaciones binarias, vamos a transformarlo artificialmente para clasificar las imágenes de los dígitos en 5 y no-5."
   ]
  },
  {
   "cell_type": "markdown",
   "id": "_4MfbHFUXUYn",
   "metadata": {
    "id": "_4MfbHFUXUYn"
   },
   "source": [
    "## Datos"
   ]
  },
  {
   "cell_type": "markdown",
   "id": "wWdECYM9XUYo",
   "metadata": {
    "id": "wWdECYM9XUYo"
   },
   "source": [
    "Bajamos los datos usando directamente `sklearn`. Según la versión, esto cambia un poco:\n"
   ]
  },
  {
   "cell_type": "code",
   "execution_count": 1,
   "id": "4ad1183a-efd6-405b-b0d6-b0381b01ea27",
   "metadata": {},
   "outputs": [
    {
     "name": "stderr",
     "output_type": "stream",
     "text": [
      "/home/agus/miniconda3/envs/data_science/lib/python3.9/site-packages/sklearn/datasets/_openml.py:932: FutureWarning: The default value of `parser` will change from `'liac-arff'` to `'auto'` in 1.4. You can set `parser='auto'` to silence this warning. Therefore, an `ImportError` will be raised from 1.4 if the dataset is dense and pandas is not installed. Note that the pandas parser may return different data types. See the Notes Section in fetch_openml's API doc for details.\n",
      "  warn(\n"
     ]
    },
    {
     "ename": "NameError",
     "evalue": "name 'np' is not defined",
     "output_type": "error",
     "traceback": [
      "\u001b[0;31m---------------------------------------------------------------------------\u001b[0m",
      "\u001b[0;31mNameError\u001b[0m                                 Traceback (most recent call last)",
      "Cell \u001b[0;32mIn[1], line 4\u001b[0m\n\u001b[1;32m      1\u001b[0m \u001b[38;5;28;01mfrom\u001b[39;00m \u001b[38;5;21;01msklearn\u001b[39;00m\u001b[38;5;21;01m.\u001b[39;00m\u001b[38;5;21;01mdatasets\u001b[39;00m \u001b[38;5;28;01mimport\u001b[39;00m fetch_openml\n\u001b[1;32m      3\u001b[0m mnist \u001b[38;5;241m=\u001b[39m fetch_openml(\u001b[38;5;124m'\u001b[39m\u001b[38;5;124mmnist_784\u001b[39m\u001b[38;5;124m'\u001b[39m, version\u001b[38;5;241m=\u001b[39m\u001b[38;5;241m1\u001b[39m, as_frame\u001b[38;5;241m=\u001b[39m\u001b[38;5;28;01mFalse\u001b[39;00m)\n\u001b[0;32m----> 4\u001b[0m mnist\u001b[38;5;241m.\u001b[39mtarget \u001b[38;5;241m=\u001b[39m mnist\u001b[38;5;241m.\u001b[39mtarget\u001b[38;5;241m.\u001b[39mastype(\u001b[43mnp\u001b[49m\u001b[38;5;241m.\u001b[39muint8)\n\u001b[1;32m      6\u001b[0m X \u001b[38;5;241m=\u001b[39m mnist[\u001b[38;5;124m\"\u001b[39m\u001b[38;5;124mdata\u001b[39m\u001b[38;5;124m\"\u001b[39m]\u001b[38;5;241m/\u001b[39m\u001b[38;5;241m255.0\u001b[39m \u001b[38;5;66;03m# vean la normalización\u001b[39;00m\n\u001b[1;32m      7\u001b[0m t \u001b[38;5;241m=\u001b[39m mnist[\u001b[38;5;124m\"\u001b[39m\u001b[38;5;124mtarget\u001b[39m\u001b[38;5;124m\"\u001b[39m]\n",
      "\u001b[0;31mNameError\u001b[0m: name 'np' is not defined"
     ]
    }
   ],
   "source": [
    "from sklearn.datasets import fetch_openml\n",
    "\n",
    "mnist = fetch_openml('mnist_784', version=1, as_frame=False)\n",
    "mnist.target = mnist.target.astype(np.uint8)\n",
    "\n",
    "X = mnist[\"data\"]/255.0 # vean la normalización\n",
    "t = mnist[\"target\"]"
   ]
  },
  {
   "cell_type": "code",
   "execution_count": null,
   "id": "6d3a7e3d-eaf6-42fd-bff1-e6ae6c57ee9c",
   "metadata": {},
   "outputs": [],
   "source": [
    "def plot_digits(instances, images_per_row=5, **options):\n",
    "    size = 28\n",
    "    images_per_row = min(len(instances), images_per_row)\n",
    "    images = [instance.reshape(size,size) for instance in instances]\n",
    "    n_rows = (len(instances) - 1) // images_per_row + 1\n",
    "    row_images = []\n",
    "    n_empty = n_rows * images_per_row - len(instances)\n",
    "    images.append(np.zeros((size, size * n_empty)))\n",
    "    for row in range(n_rows):\n",
    "        rimages = images[row * images_per_row : (row + 1) * images_per_row]\n",
    "        row_images.append(np.concatenate(rimages, axis=1))\n",
    "    image = np.concatenate(row_images, axis=0)\n",
    "    plt.imshow(image, cmap = plt.cm.binary, **options)\n",
    "    plt.axis(\"off\")"
   ]
  },
  {
   "cell_type": "code",
   "execution_count": null,
   "id": "4c07a29f-efa9-4389-924d-4bbf8ae8c9e3",
   "metadata": {},
   "outputs": [],
   "source": [
    "# investiguen la forma que tienen las imágenes en X\n",
    "\n",
    "\n"
   ]
  },
  {
   "cell_type": "code",
   "execution_count": null,
   "id": "91f99d73-8170-4e3b-9b48-271d276135cf",
   "metadata": {},
   "outputs": [],
   "source": [
    "# veamoslas graficamente\n",
    "\n",
    "fig =  plt.figure(figsize=(12,12))\n",
    "plot_digits(X[:100], 10)"
   ]
  },
  {
   "cell_type": "markdown",
   "id": "XI4FNl8NXUYo",
   "metadata": {
    "id": "XI4FNl8NXUYo"
   },
   "source": [
    "Para separar en *conjunto de entrenamiento* y de *test* usamos el hecho de que MNIST ya tiene una separación hecha que asegura el correcto equilibrio de cada clase en cada conjunto."
   ]
  },
  {
   "cell_type": "code",
   "execution_count": null,
   "id": "UMvyp5DbXUYo",
   "metadata": {
    "id": "UMvyp5DbXUYo"
   },
   "outputs": [],
   "source": [
    "X_train, X_test, t_train, t_test = X[:60000], X[60000:], t[:60000], t[60000:]"
   ]
  },
  {
   "cell_type": "markdown",
   "id": "TZE33QK-XUYo",
   "metadata": {
    "id": "TZE33QK-XUYo"
   },
   "source": [
    "Y finalmente, barajamos los datos para asegurar que tenemos una buena distribución de las clases para hacer CV."
   ]
  },
  {
   "cell_type": "code",
   "execution_count": null,
   "id": "Vz1-PJbYXUYo",
   "metadata": {
    "id": "Vz1-PJbYXUYo"
   },
   "outputs": [],
   "source": [
    "shuffle_index = np.random.permutation(60000)\n",
    "X_train, t_train = X_train[shuffle_index], t_train[shuffle_index]"
   ]
  },
  {
   "cell_type": "markdown",
   "id": "uCJ_6s1jXUYp",
   "metadata": {
    "id": "uCJ_6s1jXUYp"
   },
   "source": [
    "Ahora cambiamos los targets de forma artificial para clasificar los datos en 5 y no-5. Solo necesitamos cambiar las etiquestas; los datos tenemos que dejarlos igual."
   ]
  },
  {
   "cell_type": "code",
   "execution_count": null,
   "id": "_U1BqmTSXUYp",
   "metadata": {
    "id": "_U1BqmTSXUYp"
   },
   "outputs": [],
   "source": [
    "t_train5 = t_train == 5\n",
    "t_test5 = t_test == 5"
   ]
  },
  {
   "cell_type": "markdown",
   "id": "4bbc5eaf",
   "metadata": {
    "id": "4bbc5eaf"
   },
   "source": [
    "***\n",
    "\n",
    "## **Ejercicio**\n",
    "\n",
    "* Ahora instancien un `Perceptron` y ajusten con los datos que generamos.\n",
    "\n",
    "* Calculen las métricas que vimos en el notebook."
   ]
  },
  {
   "cell_type": "code",
   "execution_count": null,
   "id": "ae3887ab-2104-442a-893c-d11ed9159412",
   "metadata": {},
   "outputs": [],
   "source": []
  },
  {
   "cell_type": "code",
   "execution_count": null,
   "id": "d60355b4-4a5a-4481-adca-db73a2974138",
   "metadata": {},
   "outputs": [],
   "source": []
  }
 ],
 "metadata": {
  "colab": {
   "collapsed_sections": [
    "dRr8AqsGXUYd",
    "pOrPPpGXXUYk",
    "jNADZghWXUYn"
   ],
   "provenance": [
    {
     "file_id": "1y1rxh_LI0lzDuIFx8boA6p4DMjWVLSEC",
     "timestamp": 1663006434527
    }
   ]
  },
  "kernelspec": {
   "display_name": "Python 3",
   "language": "python",
   "name": "python3"
  },
  "language_info": {
   "codemirror_mode": {
    "name": "ipython",
    "version": 3
   },
   "file_extension": ".py",
   "mimetype": "text/x-python",
   "name": "python",
   "nbconvert_exporter": "python",
   "pygments_lexer": "ipython3",
   "version": "3.9.17"
  },
  "vscode": {
   "interpreter": {
    "hash": "2b7aa682480b82eb27ca7b5ecfebdb0027bb2a276e6bdff64c1ddeab03557e9e"
   }
  }
 },
 "nbformat": 4,
 "nbformat_minor": 5
}
